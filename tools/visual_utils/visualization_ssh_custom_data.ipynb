{
 "cells": [
  {
   "cell_type": "markdown",
   "metadata": {
    "hide_input": false,
    "toc": true
   },
   "source": [
    "<h1>Table of Contents<span class=\"tocSkip\"></span></h1>\n",
    "<div class=\"toc\"><ul class=\"toc-item\"><li><span><a href=\"#Plot-functions\" data-toc-modified-id=\"Plot-functions-1\"><span class=\"toc-item-num\">1&nbsp;&nbsp;</span>Plot functions</a></span></li><li><span><a href=\"#3d-IoU-investigation\" data-toc-modified-id=\"3d-IoU-investigation-2\"><span class=\"toc-item-num\">2&nbsp;&nbsp;</span>3d IoU investigation</a></span></li><li><span><a href=\"#Plot-Detections\" data-toc-modified-id=\"Plot-Detections-3\"><span class=\"toc-item-num\">3&nbsp;&nbsp;</span>Plot Detections</a></span><ul class=\"toc-item\"><li><span><a href=\"#Stage-1:-RPN-Evaluation\" data-toc-modified-id=\"Stage-1:-RPN-Evaluation-3.1\"><span class=\"toc-item-num\">3.1&nbsp;&nbsp;</span>Stage 1: RPN Evaluation</a></span><ul class=\"toc-item\"><li><span><a href=\"#Custom-Dataset\" data-toc-modified-id=\"Custom-Dataset-3.1.1\"><span class=\"toc-item-num\">3.1.1&nbsp;&nbsp;</span>Custom Dataset</a></span></li><li><span><a href=\"#LCAS-Dataset\" data-toc-modified-id=\"LCAS-Dataset-3.1.2\"><span class=\"toc-item-num\">3.1.2&nbsp;&nbsp;</span>LCAS Dataset</a></span></li></ul></li><li><span><a href=\"#Stage-2:-RCNN-EVALUATION\" data-toc-modified-id=\"Stage-2:-RCNN-EVALUATION-3.2\"><span class=\"toc-item-num\">3.2&nbsp;&nbsp;</span>Stage 2: RCNN EVALUATION</a></span><ul class=\"toc-item\"><li><span><a href=\"#Custom-Data\" data-toc-modified-id=\"Custom-Data-3.2.1\"><span class=\"toc-item-num\">3.2.1&nbsp;&nbsp;</span>Custom Data</a></span><ul class=\"toc-item\"><li><span><a href=\"#Testing\" data-toc-modified-id=\"Testing-3.2.1.1\"><span class=\"toc-item-num\">3.2.1.1&nbsp;&nbsp;</span>Testing</a></span></li></ul></li></ul></li><li><span><a href=\"#JRDB\" data-toc-modified-id=\"JRDB-3.3\"><span class=\"toc-item-num\">3.3&nbsp;&nbsp;</span>JRDB</a></span><ul class=\"toc-item\"><li><span><a href=\"#Overview\" data-toc-modified-id=\"Overview-3.3.1\"><span class=\"toc-item-num\">3.3.1&nbsp;&nbsp;</span>Overview</a></span></li><li><span><a href=\"#LCAS\" data-toc-modified-id=\"LCAS-3.3.2\"><span class=\"toc-item-num\">3.3.2&nbsp;&nbsp;</span>LCAS</a></span></li></ul></li></ul></li><li><span><a href=\"#Evaluate-Precision/Recall\" data-toc-modified-id=\"Evaluate-Precision/Recall-4\"><span class=\"toc-item-num\">4&nbsp;&nbsp;</span>Evaluate Precision/Recall</a></span></li><li><span><a href=\"#Test-Data-Augmentation\" data-toc-modified-id=\"Test-Data-Augmentation-5\"><span class=\"toc-item-num\">5&nbsp;&nbsp;</span>Test Data Augmentation</a></span></li><li><span><a href=\"#Show-ground-truth-only\" data-toc-modified-id=\"Show-ground-truth-only-6\"><span class=\"toc-item-num\">6&nbsp;&nbsp;</span>Show ground truth only</a></span></li></ul></div>"
   ]
  },
  {
   "cell_type": "markdown",
   "metadata": {},
   "source": [
    "Followed this [instruction manual](https://github.com/kuixu/kitti_object_vis/tree/master/jupyter) on how to setup jupyter notebook mayavi interface for remote usage."
   ]
  },
  {
   "cell_type": "code",
   "execution_count": 1,
   "metadata": {},
   "outputs": [],
   "source": [
    "%load_ext autoreload\n",
    "%autoreload 2"
   ]
  },
  {
   "cell_type": "code",
   "execution_count": 2,
   "metadata": {},
   "outputs": [],
   "source": [
    "from xvfbwrapper import Xvfb\n",
    "vdisplay = Xvfb(width=1920, height=1080)\n",
    "vdisplay.start()"
   ]
  },
  {
   "cell_type": "code",
   "execution_count": 3,
   "metadata": {},
   "outputs": [
    {
     "name": "stdout",
     "output_type": "stream",
     "text": [
      "Notebook initialized with ipy backend.\n"
     ]
    }
   ],
   "source": [
    "from mayavi import mlab\n",
    "mlab.init_notebook('ipy')"
   ]
  },
  {
   "cell_type": "code",
   "execution_count": 4,
   "metadata": {},
   "outputs": [],
   "source": [
    "import os\n",
    "import torch\n",
    "import numpy as np\n",
    "import matplotlib.pyplot as plt\n",
    "\n",
    "import visualize_utils as V\n",
    "from pcdet.utils.custom_data_utils import load_h5, load_h5_basic, get_data_files\n",
    "from pcdet.utils.object3d_custom import Object3d\n",
    "\n",
    "\n",
    "# import lib.utils.kitti_utils as kitti_utils\n",
    "# # from visualize_utils import draw_scenes, draw_lidar, draw_gt_boxes3d #readIntoNumpy\n",
    "# from lib.utils.kitti_utils import boxes3d_to_corners3d, get_objects_from_label, generate_corners3d\n",
    "# from lib.utils.custom_object3d import Object3d\n",
    "# import lib.utils.custom_data_utils as data_utils\n",
    "# import lib.utils.iou3d.iou3d_utils as iou3d_utils\n",
    "# import lib.utils.roipool3d.roipool3d_utils as roipool3d_utils"
   ]
  },
  {
   "cell_type": "code",
   "execution_count": 5,
   "metadata": {},
   "outputs": [
    {
     "name": "stdout",
     "output_type": "stream",
     "text": [
      "/home/crowdbot/master_lara/OpenPCDet/tools/visual_utils\n"
     ]
    }
   ],
   "source": [
    "print(os.getcwd())"
   ]
  },
  {
   "cell_type": "code",
   "execution_count": 6,
   "metadata": {},
   "outputs": [
    {
     "name": "stdout",
     "output_type": "stream",
     "text": [
      "5939\n",
      "../../data/custom_data/\n"
     ]
    }
   ],
   "source": [
    "DATA_PATH = os.path.join('../../', 'data/custom_data/')\n",
    "all_val_files = get_data_files(os.path.join(DATA_PATH, 'val.txt'))\n",
    "print(len(all_val_files))\n",
    "print(DATA_PATH)"
   ]
  },
  {
   "cell_type": "code",
   "execution_count": 7,
   "metadata": {},
   "outputs": [],
   "source": [
    "def idx_to_str(idx): \n",
    "    if idx >= 1000: digit = str(idx)\n",
    "    elif idx >= 100: digit = '0' + str(idx)\n",
    "    elif idx >=10: digit = '00' + str(idx)\n",
    "    else: digit = '000' + str(idx)\n",
    "    return digit"
   ]
  },
  {
   "cell_type": "markdown",
   "metadata": {
    "heading_collapsed": true
   },
   "source": [
    "# Plot functions"
   ]
  },
  {
   "cell_type": "code",
   "execution_count": 10,
   "metadata": {
    "hidden": true
   },
   "outputs": [],
   "source": [
    "def draw_lidar_simple(pc, color=None, fig=None):\n",
    "    ''' Draw lidar points. simplest set up. '''\n",
    "    fig = mlab.figure(figure=None, bgcolor=(0,0,0), fgcolor=None, engine=None, size=(1600, 1000))\n",
    "    if color is None: color = pc[:,1]\n",
    "    #draw points\n",
    "    mlab.points3d(pc[:,2], -pc[:,0], -pc[:,1], color, color=None, mode='point', colormap = 'gnuplot', scale_factor=1, figure=fig)\n",
    "    #draw origin\n",
    "    mlab.points3d(0, 0, 0, color=(1,1,1), mode='sphere', scale_factor=0.2)\n",
    "    #draw axis\n",
    "    axes=np.array([\n",
    "        [1.,0.,0.,0.],\n",
    "        [0.,1.,0.,0.],\n",
    "        [0.,0.,1.,0.],\n",
    "    ],dtype=np.float64)\n",
    "    mlab.plot3d([0, axes[0,0]], [0, axes[0,1]], [0, axes[0,2]], color=(1,0,0), tube_radius=None, figure=fig)\n",
    "    mlab.plot3d([0, axes[1,0]], [0, axes[1,1]], [0, axes[1,2]], color=(0,1,0), tube_radius=None, figure=fig)\n",
    "    mlab.plot3d([0, axes[2,0]], [0, axes[2,1]], [0, axes[2,2]], color=(0,0,1), tube_radius=None, figure=fig)\n",
    "    mlab.view(azimuth=180, elevation=70, focalpoint=[ 12.0909996 , -1.04700089, -2.03249991], distance=30.0, figure=fig)\n",
    "    return fig\n",
    "\n",
    "def draw_lidar(pc, color=None, fig=None, bgcolor=(0,0,0), pts_scale=1, pts_mode='point', pts_color=None):\n",
    "    ''' Draw lidar points\n",
    "    Args:\n",
    "        pc: numpy array (n,3) of XYZ\n",
    "        color: numpy array (n) of intensity or whatever\n",
    "        fig: mayavi figure handler, if None create new one otherwise will use it\n",
    "    Returns:\n",
    "        fig: created or used fig\n",
    "    '''\n",
    "    if fig is None: fig = mlab.figure(figure=None, bgcolor=bgcolor, fgcolor=None, engine=None, size=(1600, 1000))\n",
    "    if color is None: color = pc[:,2]\n",
    "    mlab.points3d(pc[:,0], pc[:,1], pc[:,2], color, color=pts_color, mode=pts_mode, colormap = 'gnuplot', scale_factor=pts_scale, figure=fig)\n",
    "    \n",
    "    #draw origin\n",
    "    mlab.points3d(0, 0, 0, color=(1,1,1), mode='sphere', scale_factor=0.2)\n",
    "    \n",
    "    #draw axis\n",
    "    axes=np.array([\n",
    "        [2.,0.,0.,0.],\n",
    "        [0.,2.,0.,0.],\n",
    "        [0.,0.,2.,0.],\n",
    "    ],dtype=np.float64)\n",
    "    mlab.plot3d([0, axes[0,0]], [0, axes[0,1]], [0, axes[0,2]], color=(1,0,0), tube_radius=None, figure=fig)\n",
    "    mlab.plot3d([0, axes[1,0]], [0, axes[1,1]], [0, axes[1,2]], color=(0,1,0), tube_radius=None, figure=fig)\n",
    "    mlab.plot3d([0, axes[2,0]], [0, axes[2,1]], [0, axes[2,2]], color=(0,0,1), tube_radius=None, figure=fig)\n",
    "\n",
    "    # draw fov (todo: update to real sensor spec.)\n",
    "    fov=np.array([  # 45 degree\n",
    "        [20., 20., 0.,0.],\n",
    "        [20.,-20., 0.,0.],\n",
    "    ],dtype=np.float64)\n",
    "    \n",
    "    mlab.plot3d([0, fov[0,0]], [0, fov[0,1]], [0, fov[0,2]], color=(1,1,1), tube_radius=None, line_width=1, figure=fig)\n",
    "    mlab.plot3d([0, fov[1,0]], [0, fov[1,1]], [0, fov[1,2]], color=(1,1,1), tube_radius=None, line_width=1, figure=fig)\n",
    "   \n",
    "    # draw square region\n",
    "    TOP_Y_MIN=-20\n",
    "    TOP_Y_MAX=20\n",
    "    TOP_X_MIN=0\n",
    "    TOP_X_MAX=40\n",
    "    TOP_Z_MIN=-2.0\n",
    "    TOP_Z_MAX=0.4\n",
    "    \n",
    "    x1 = TOP_X_MIN\n",
    "    x2 = TOP_X_MAX\n",
    "    y1 = TOP_Y_MIN\n",
    "    y2 = TOP_Y_MAX\n",
    "    mlab.plot3d([x1, x1], [y1, y2], [0,0], color=(0.5,0.5,0.5), tube_radius=0.1, line_width=1, figure=fig)\n",
    "    mlab.plot3d([x2, x2], [y1, y2], [0,0], color=(0.5,0.5,0.5), tube_radius=0.1, line_width=1, figure=fig)\n",
    "    mlab.plot3d([x1, x2], [y1, y1], [0,0], color=(0.5,0.5,0.5), tube_radius=0.1, line_width=1, figure=fig)\n",
    "    mlab.plot3d([x1, x2], [y2, y2], [0,0], color=(0.5,0.5,0.5), tube_radius=0.1, line_width=1, figure=fig)\n",
    "    \n",
    "    #mlab.orientation_axes()\n",
    "    mlab.view(azimuth=180, elevation=70, focalpoint=[ 12.0909996 , -1.04700089, -2.03249991], distance=62.0, figure=fig)\n",
    "    return fig\n",
    "\n",
    "def draw_gt_boxes3d(gt_boxes3d, fig, color=(1,1,1), line_width=1, draw_text=True, text_scale=(0.25,0.25,0.25), color_list=None, sample_id=None):\n",
    "    ''' Draw 3D bounding boxes\n",
    "    Args:\n",
    "        gt_boxes3d: numpy array (n,8,3) for XYZs of the box corners\n",
    "        fig: mayavi figure handler\n",
    "        color: RGB value tuple in range (0,1), box line color\n",
    "        line_width: box line width\n",
    "        draw_text: boolean, if true, write box indices beside boxes\n",
    "        text_scale: three number tuple\n",
    "        color_list: a list of RGB tuple, if not None, overwrite color.\n",
    "    Returns:\n",
    "        fig: updated fig\n",
    "    ''' \n",
    "    num = len(gt_boxes3d)\n",
    "    for n in range(num):\n",
    "        b = gt_boxes3d[n]\n",
    "        if color_list is not None:\n",
    "            color = color_list[n] \n",
    "        if draw_text: \n",
    "            if not sample_id: \n",
    "                mlab.text3d(b[4,2], -b[4,0], -b[4,1], '%d'%n, scale=text_scale, color=color, figure=fig)\n",
    "            else: \n",
    "                mlab.text3d(b[4,2], -b[4,0], -b[4,1], '%d'%sample_id, scale=text_scale, color=color, figure=fig)\n",
    "        for k in range(0,4):\n",
    "            #http://docs.enthought.com/mayavi/mayavi/auto/mlab_helper_functions.html\n",
    "            i,j=k,(k+1)%4\n",
    "            mlab.plot3d([b[i,2], b[j,2]], [-b[i,0], -b[j,0]], [-b[i,1], -b[j,1]], color=color, tube_radius=None, line_width=line_width, figure=fig)\n",
    "\n",
    "            i,j=k+4,(k+1)%4 + 4\n",
    "            mlab.plot3d([b[i,2], b[j,2]], [-b[i,0], -b[j,0]], [-b[i,1], -b[j,1]], color=color, tube_radius=None, line_width=line_width, figure=fig)\n",
    "\n",
    "            i,j=k,k+4\n",
    "            mlab.plot3d([b[i,2], b[j,2]], [-b[i,0], -b[j,0]], [-b[i,1], -b[j,1]], color=color, tube_radius=None, line_width=line_width, figure=fig)\n",
    "    #mlab.show(1)\n",
    "    #mlab.view(azimuth=180, elevation=70, focalpoint=[ 12.0909996 , -1.04700089, -2.03249991], distance=62.0, figure=fig)\n",
    "    return fig\n",
    "\n",
    "def draw_sphere_pts(pts, color=(0, 1, 0), fig=None, bgcolor=(0, 0, 0), scale_factor=0.2):\n",
    "    if not isinstance(pts, np.ndarray):\n",
    "        pts = pts.cpu().numpy()\n",
    "\n",
    "    if fig is None:\n",
    "        fig = mlab.figure(figure=None, bgcolor=bgcolor, fgcolor=None, engine=None, size=(600, 600))\n",
    "\n",
    "    if isinstance(color, np.ndarray) and color.shape[0] == 1:\n",
    "        color = color[0]\n",
    "        color = (color[0] / 255.0, color[1] / 255.0, color[2] / 255.0)\n",
    "\n",
    "    if isinstance(color, np.ndarray):\n",
    "        pts_color = np.zeros((pts.__len__(), 4), dtype=np.uint8)\n",
    "        pts_color[:, 0:3] = color\n",
    "        pts_color[:, 3] = 255\n",
    "        G = mlab.points3d(pts[:, 2], -pts[:, 0], -pts[:, 1], np.arange(0, pts_color.__len__()), mode='sphere',\n",
    "                          scale_factor=scale_factor, figure=fig)\n",
    "        G.glyph.color_mode = 'color_by_scalar'\n",
    "        G.glyph.scale_mode = 'scale_by_vector'\n",
    "        G.module_manager.scalar_lut_manager.lut.table = pts_color\n",
    "    else:\n",
    "        mlab.points3d(pts[:, 2], -pts[:, 0], -pts[:, 1], mode='sphere', color=color,\n",
    "                      colormap='gnuplot', scale_factor=scale_factor, figure=fig)\n",
    "\n",
    "#     mlab.points3d(0, 0, 0, color=(1, 1, 1), mode='cube', scale_factor=0.2)\n",
    "#     mlab.plot3d([0, 3], [0, 0], [0, 0], color=(0, 0, 1), line_width=3, tube_radius=None, figure=fig)\n",
    "#     mlab.plot3d([0, 0], [0, 3], [0, 0], color=(0, 1, 0), line_width=3, tube_radius=None, figure=fig)\n",
    "#     mlab.plot3d([0, 0], [0, 0], [0, 3], color=(1, 0, 0), line_width=3, tube_radius=None, figure=fig)\n",
    "\n",
    "    return fig\n",
    "\n",
    "\n",
    "def draw_grid(x1, y1, x2, y2, fig, tube_radius=None, color=(0.5, 0.5, 0.5)):\n",
    "    mlab.plot3d([x1, x1], [y1, y2], [0, 0], color=color, tube_radius=tube_radius, line_width=1, figure=fig)\n",
    "    mlab.plot3d([x2, x2], [y1, y2], [0, 0], color=color, tube_radius=tube_radius, line_width=1, figure=fig)\n",
    "    mlab.plot3d([x1, x2], [y1, y1], [0, 0], color=color, tube_radius=tube_radius, line_width=1, figure=fig)\n",
    "    mlab.plot3d([x1, x2], [y2, y2], [0, 0], color=color, tube_radius=tube_radius, line_width=1, figure=fig)\n",
    "    return fig\n",
    "\n",
    "\n",
    "def draw_multi_grid_range(fig, grid_size=20, bv_range=(-60, -60, 60, 60)):\n",
    "    for x in range(bv_range[0], bv_range[2], grid_size):\n",
    "        for y in range(bv_range[1], bv_range[3], grid_size):\n",
    "            fig = draw_grid(x, y, x + grid_size, y + grid_size, fig)\n",
    "\n",
    "    return fig\n",
    "\n",
    "def roty(t):\n",
    "    ''' Rotation about the y-axis. '''\n",
    "    c = np.cos(t)\n",
    "    s = np.sin(t)\n",
    "    return np.array([[c,  0,  s],\n",
    "                     [0,  1,  0],\n",
    "                     [-s, 0,  c]])\n",
    "\n",
    "def compute_box_3d(obj, gt=False):\n",
    "    ''' Takes an object and a projection matrix (P) and projects the 3d\n",
    "        bounding box into the image plane.\n",
    "        Returns:\n",
    "            corners_2d: (8,2) array in left image coord.\n",
    "            corners_3d: (8,3) array in in rect camera coord.\n",
    "    '''\n",
    "    # compute rotational matrix around yaw axis\n",
    "    R = roty(obj.ry)    \n",
    "\n",
    "    # 3d bounding box dimensions\n",
    "    l = obj.l\n",
    "    w = obj.w\n",
    "    h = obj.h\n",
    "    \n",
    "    # 3d bounding box corners\n",
    "    x_corners = [w/2,w/2,-w/2,-w/2,w/2,w/2,-w/2,-w/2]\n",
    "    y_corners = [-h/2.,-h/2.,-h/2.,-h/2.,h/2.,h/2.,h/2.,h/2.]\n",
    "    z_corners = [l/2,-l/2,-l/2,l/2,l/2,-l/2,-l/2,l/2]\n",
    "    \n",
    "    # rotate and translate 3d bounding box\n",
    "    corners_3d = np.dot(R, np.vstack([x_corners,y_corners,z_corners])).T\n",
    "    corners_3d += obj.pos \n",
    "    return corners_3d"
   ]
  },
  {
   "cell_type": "code",
   "execution_count": 11,
   "metadata": {
    "hidden": true
   },
   "outputs": [],
   "source": [
    "def compute_box_3d_velo(obj): \n",
    "    # 3d bounding box dimensions\n",
    "    l = obj.l\n",
    "    w = obj.w\n",
    "    h = obj.h\n",
    "    # careful: width, length and height have been differently defined than in KITTI\n",
    "    x_corners = [w/2, w/2, -w/2, -w/2, w/2, w/2, -w/2, -w/2]        \n",
    "    y_corners = [-l/2, l/2, l/2, -l/2, -l/2, l/2, l/2, -l/2]\n",
    "    z_corners = [-h/2, -h/2, -h/2, -h/2, h/2, h/2, h/2, h/2]\n",
    "\n",
    "    # rotation now defined in Velodyne coords. -> around z-axis => yaw rot. \n",
    "    R = np.array([[np.cos(obj.ry), np.sin(obj.ry), 0],\n",
    "                  [-np.sin(obj.ry), np.cos(obj.ry), 0],\n",
    "                  [0, 0, 1]])\n",
    "    corners3d = np.vstack([x_corners, y_corners, z_corners])  # (3, 8)\n",
    "    # transpose and rotate around orientation angle \n",
    "    corners3d = np.dot(R, corners3d).T\n",
    "    corners3d = corners3d + obj.pos\n",
    "    return corners3d"
   ]
  },
  {
   "cell_type": "code",
   "execution_count": 12,
   "metadata": {
    "hidden": true
   },
   "outputs": [],
   "source": [
    "def show_lidar_with_boxes(pc_cam, objects, gt_objects=None, best_prop_only=False,foreground=None): \n",
    "    ''' Show all LiDAR points.\n",
    "        Draw 3d box in LiDAR point cloud (in cam coord system) '''\n",
    "    \n",
    "    print(('All point num: ', pc_cam.shape[0]))\n",
    "    fig = mlab.figure(figure=None, bgcolor=(0,0,0),fgcolor=None, engine=None, size=(1000, 500))\n",
    "    \n",
    "    fig = draw_lidar_simple(pc_cam, fig=fig)\n",
    "    print('Got {} detections'.format(len(objects)))\n",
    "    scores = []\n",
    "    if objects: \n",
    "        for idx, obj in enumerate(objects):\n",
    "            scores.append(obj.score)\n",
    "            # Draw 3d bounding box\n",
    "            if not best_prop_only: \n",
    "                box3d_pts_3d = compute_box_3d(obj) \n",
    "                draw_gt_boxes3d([box3d_pts_3d], fig=fig)\n",
    "        if best_prop_only: \n",
    "            print(np.max(scores))\n",
    "            best_id = np.argmax(scores)\n",
    "            best_proposal = objects[best_id]\n",
    "            box3d_pts_3d = compute_box_3d(best_proposal) \n",
    "            obj = best_proposal\n",
    "            mlab.points3d(obj.pos[2], -obj.pos[0], -obj.pos[1], color=(1,1,1), mode='sphere', scale_factor=0.2, figure=fig)\n",
    "            \n",
    "            draw_gt_boxes3d([box3d_pts_3d], fig=fig)\n",
    "    \n",
    "    if gt_objects is not None: \n",
    "        print('Got {} ground truth objects'.format(len(gt_objects)))\n",
    "        for idx, obj in enumerate(gt_objects): \n",
    "            if type(obj) == tuple: \n",
    "                pred_box3d_pts_3d = compute_box_3d(obj[1], gt=True) \n",
    "                sample_id = obj[0]\n",
    "                draw_gt_boxes3d([pred_box3d_pts_3d], fig=fig, color=(0,1,0), sample_id=sample_id)\n",
    "            else: \n",
    "                # Draw 3d bounding box\n",
    "                pred_box3d_pts_3d = compute_box_3d(obj, gt=True) \n",
    "                draw_gt_boxes3d([pred_box3d_pts_3d], fig=fig, color=(0,1,0))\n",
    "                mlab.points3d(obj.pos[2], -obj.pos[0], -obj.pos[1], color=(1,1,1), mode='sphere', scale_factor=0.2, figure=fig)\n",
    "\n",
    "    if foreground is not None: \n",
    "        # plot foreground segmentation results\n",
    "        draw_sphere_pts(foreground, fig=fig)\n",
    "\n",
    "    mlab.show(1)\n",
    "    return fig "
   ]
  },
  {
   "cell_type": "markdown",
   "metadata": {
    "heading_collapsed": true
   },
   "source": [
    "# 3d IoU investigation"
   ]
  },
  {
   "cell_type": "code",
   "execution_count": 11,
   "metadata": {
    "hidden": true
   },
   "outputs": [],
   "source": [
    "import torch \n",
    "\n",
    "idx = 100\n",
    "digit = idx_to_str(idx)\n",
    "epoch = 200\n",
    "test_run = 'pedestrian_new'\n",
    "mode = 'rpn'\n",
    "DATA_PATH = os.path.join('../../', 'data/custom_data/')\n",
    "OUTPUT_PATH = os.path.join('../../', 'output/')\n",
    "all_val_files = data_utils.get_data_files(os.path.join(DATA_PATH, 'val.txt'))\n",
    "lidar_file = os.path.join(DATA_PATH, all_val_files[idx])\n",
    "pts_lidar, _, bboxes = data_utils.load_h5(lidar_file, bbox=True)\n",
    "pts_rect = data_utils.pts_lidar_to_camera(pts_lidar[:, :3])\n",
    "# bboxes = np.vstack((bboxes, [0,0,0,0,0,0,0]))\n",
    "# bbox_list = bboxes\n",
    "# print(bboxes.shape)\n",
    "bbox_list = np.reshape(bboxes, (1,-1)) \n",
    "gt_boxes3d_list = [Object3d(box, gt=True) for box in bbox_list]\n",
    "gt_boxes3d_np = np.array([(obj.pos[0], obj.pos[1], obj.pos[2], obj.h, obj.w, obj.l, obj.ry) for obj in gt_boxes3d_list])\n",
    "gt_boxes3d_np = np.vstack((gt_boxes3d_np, gt_boxes3d_np))\n",
    "gt_boxes3d = torch.from_numpy(gt_boxes3d_np).contiguous().cuda(non_blocking=True).float()\n",
    "\n",
    "bboxes3d_path = os.path.join(OUTPUT_PATH, \"{}/{}/eval/epoch_{}/val/detections/data/00{}.txt\".format(mode, test_run, epoch, digit))\n",
    "pred_boxes3d_list = get_objects_from_label(bboxes3d_path)\n",
    "pred_boxes3d_np = np.array([(obj.pos[0], obj.pos[1], obj.pos[2], obj.h, obj.w, obj.l, obj.ry) for obj in pred_boxes3d_list])\n",
    "pred_boxes3d = torch.from_numpy(pred_boxes3d_np).contiguous().cuda(non_blocking=True).float()"
   ]
  },
  {
   "cell_type": "code",
   "execution_count": 12,
   "metadata": {
    "hidden": true
   },
   "outputs": [
    {
     "name": "stdout",
     "output_type": "stream",
     "text": [
      "100\n",
      "2\n"
     ]
    }
   ],
   "source": [
    "print(len(pred_boxes3d))\n",
    "print(len(gt_boxes3d))"
   ]
  },
  {
   "cell_type": "code",
   "execution_count": 593,
   "metadata": {
    "hidden": true
   },
   "outputs": [],
   "source": [
    "# GPU IoU \n",
    "iou3d_torch = iou3d_utils.boxes_iou3d_gpu(pred_boxes3d, gt_boxes3d)\n",
    "gt_iou_torch, gt_iou_torch_idx = iou3d_torch.max(dim=1)\n",
    "gt_max_iou, gt_max_iou_idx = iou3d_torch.max(dim=0)\n",
    "refined_iou, _ = iou3d_torch.max(dim=1)"
   ]
  },
  {
   "cell_type": "code",
   "execution_count": 598,
   "metadata": {
    "hidden": true
   },
   "outputs": [
    {
     "name": "stdout",
     "output_type": "stream",
     "text": [
      "torch.Size([100, 2])\n",
      "torch.Size([100])\n",
      "torch.Size([100])\n",
      "torch.Size([2])\n"
     ]
    }
   ],
   "source": [
    "print(iou3d_torch.shape)\n",
    "print(gt_iou_torch.shape)\n",
    "print(gt_iou_torch_idx.shape)\n",
    "print(gt_max_iou.shape)"
   ]
  },
  {
   "cell_type": "code",
   "execution_count": 476,
   "metadata": {
    "hidden": true,
    "scrolled": true
   },
   "outputs": [
    {
     "data": {
      "text/plain": [
       "tensor([0.4427, 0.4283, 0.4967, 0.4980, 0.5041, 0.5189, 0.4217, 0.4678, 0.4386,\n",
       "        0.4493, 0.4521, 0.4101, 0.3884, 0.1816, 0.2399, 0.2086, 0.3560, 0.3041,\n",
       "        0.0000, 0.0000, 0.0000, 0.0000, 0.0000, 0.0000, 0.0000, 0.0000, 0.2478,\n",
       "        0.0000, 0.0000, 0.0000, 0.0000, 0.0000, 0.0000, 0.0000, 0.0000, 0.0000,\n",
       "        0.0000, 0.0000, 0.0000, 0.0000, 0.0000, 0.0000, 0.0000, 0.0000, 0.0000,\n",
       "        0.0000, 0.0000, 0.0000, 0.3630, 0.0000, 0.0000, 0.0000, 0.0000, 0.0000,\n",
       "        0.0000, 0.0000, 0.0000, 0.0000, 0.0000, 0.0000, 0.0000, 0.0000, 0.0000,\n",
       "        0.0000, 0.0000, 0.0000, 0.0000, 0.0000, 0.0000, 0.0000, 0.0000, 0.0000,\n",
       "        0.0000, 0.0000, 0.0000, 0.0000, 0.0000, 0.0000, 0.0000, 0.0000, 0.0000,\n",
       "        0.0000, 0.0000, 0.0000, 0.0000, 0.0000, 0.0000, 0.0000, 0.0000, 0.0000,\n",
       "        0.0000, 0.0000, 0.0000, 0.0000, 0.0000, 0.0000, 0.0000, 0.0000, 0.0000,\n",
       "        0.0000], device='cuda:0')"
      ]
     },
     "execution_count": 476,
     "metadata": {},
     "output_type": "execute_result"
    }
   ],
   "source": [
    "gt_iou_torch"
   ]
  },
  {
   "cell_type": "code",
   "execution_count": null,
   "metadata": {
    "hidden": true
   },
   "outputs": [],
   "source": [
    "gt_iou_torch.shape"
   ]
  },
  {
   "cell_type": "code",
   "execution_count": 564,
   "metadata": {
    "hidden": true
   },
   "outputs": [
    {
     "name": "stdout",
     "output_type": "stream",
     "text": [
      "[0.5189021 0.5189021] [5 5]\n"
     ]
    }
   ],
   "source": [
    "print(gt_max_iou.cpu().numpy(), gt_max_iou_idx.cpu().numpy())"
   ]
  },
  {
   "cell_type": "code",
   "execution_count": 488,
   "metadata": {
    "hidden": true
   },
   "outputs": [
    {
     "name": "stdout",
     "output_type": "stream",
     "text": [
      "tensor([0, 0, 0, 0, 0, 0, 0, 0, 0, 0, 0, 0, 0, 0, 0, 0, 0, 0, 0, 0, 0, 0, 0, 0,\n",
      "        0, 0, 0, 0, 0, 0, 0, 0, 0, 0, 0, 0, 0, 0, 0, 0, 0, 0, 0, 0, 0, 0, 0, 0,\n",
      "        0, 0, 0, 0, 0, 0, 0, 0, 0, 0, 0, 0, 0, 0, 0, 0, 0, 0, 0, 0, 0, 0, 0, 0,\n",
      "        0, 0, 0, 0, 0, 0, 0, 0, 0, 0, 0, 0, 0, 0, 0, 0, 0, 0, 0, 0, 0, 0, 0, 0,\n",
      "        0, 0, 0, 0], device='cuda:0')\n"
     ]
    }
   ],
   "source": [
    "print(gt_iou_torch_idx)"
   ]
  },
  {
   "cell_type": "code",
   "execution_count": 497,
   "metadata": {
    "hidden": true
   },
   "outputs": [],
   "source": [
    "iou=0.5\n",
    "true_positives = (gt_iou_torch > iou).float()"
   ]
  },
  {
   "cell_type": "code",
   "execution_count": 498,
   "metadata": {
    "hidden": true
   },
   "outputs": [
    {
     "data": {
      "text/plain": [
       "array([0., 0., 0., 0., 1., 1., 0., 0., 0., 0., 0., 0., 0., 0., 0., 0., 0.,\n",
       "       0., 0., 0., 0., 0., 0., 0., 0., 0., 0., 0., 0., 0., 0., 0., 0., 0.,\n",
       "       0., 0., 0., 0., 0., 0., 0., 0., 0., 0., 0., 0., 0., 0., 0., 0., 0.,\n",
       "       0., 0., 0., 0., 0., 0., 0., 0., 0., 0., 0., 0., 0., 0., 0., 0., 0.,\n",
       "       0., 0., 0., 0., 0., 0., 0., 0., 0., 0., 0., 0., 0., 0., 0., 0., 0.,\n",
       "       0., 0., 0., 0., 0., 0., 0., 0., 0., 0., 0., 0., 0., 0., 0.],\n",
       "      dtype=float32)"
      ]
     },
     "execution_count": 498,
     "metadata": {},
     "output_type": "execute_result"
    }
   ],
   "source": [
    "true_positives.cpu().numpy()"
   ]
  },
  {
   "cell_type": "code",
   "execution_count": 470,
   "metadata": {
    "hidden": true
   },
   "outputs": [],
   "source": [
    "# CPU IoU \n",
    "gt_corners = np.array([compute_box_3d(obj) for obj in gt_boxes3d_list])\n",
    "roi_corners =  np.array([compute_box_3d(obj) for obj in pred_boxes3d_list])\n",
    "iou3d_np = kitti_utils.get_iou3d(roi_corners, gt_corners)\n",
    "gt_iou_np = iou3d_np.max(axis=1)"
   ]
  },
  {
   "cell_type": "code",
   "execution_count": 471,
   "metadata": {
    "hidden": true
   },
   "outputs": [
    {
     "data": {
      "text/plain": [
       "array([0.4232682 , 0.42807588, 0.49284822, 0.5184941 , 0.5216736 ,\n",
       "       0.5189016 , 0.40234873, 0.41174188, 0.3863045 , 0.40019307,\n",
       "       0.41661915, 0.41856647, 0.34485006, 0.18314889, 0.23561558,\n",
       "       0.21839157, 0.34466338, 0.2961294 , 0.        , 0.        ,\n",
       "       0.        , 0.        , 0.        , 0.        , 0.        ,\n",
       "       0.        , 0.22598036, 0.        , 0.        , 0.        ,\n",
       "       0.        , 0.        , 0.        , 0.        , 0.        ,\n",
       "       0.        , 0.        , 0.        , 0.        , 0.        ,\n",
       "       0.        , 0.        , 0.        , 0.        , 0.        ,\n",
       "       0.        , 0.        , 0.        , 0.32945976, 0.        ,\n",
       "       0.        , 0.        , 0.        , 0.        , 0.        ,\n",
       "       0.        , 0.        , 0.        , 0.        , 0.        ,\n",
       "       0.        , 0.        , 0.        , 0.        , 0.        ,\n",
       "       0.        , 0.        , 0.        , 0.        , 0.        ,\n",
       "       0.        , 0.        , 0.        , 0.        , 0.        ,\n",
       "       0.        , 0.        , 0.        , 0.        , 0.        ,\n",
       "       0.        , 0.        , 0.        , 0.        , 0.        ,\n",
       "       0.        , 0.        , 0.        , 0.        , 0.        ,\n",
       "       0.        , 0.        , 0.        , 0.        , 0.        ,\n",
       "       0.        , 0.        , 0.        , 0.        , 0.        ],\n",
       "      dtype=float32)"
      ]
     },
     "execution_count": 471,
     "metadata": {},
     "output_type": "execute_result"
    }
   ],
   "source": [
    "gt_iou_np"
   ]
  },
  {
   "cell_type": "code",
   "execution_count": 460,
   "metadata": {
    "hidden": true
   },
   "outputs": [
    {
     "data": {
      "text/plain": [
       "(2, 8, 3)"
      ]
     },
     "execution_count": 460,
     "metadata": {},
     "output_type": "execute_result"
    }
   ],
   "source": [
    "roi_corners.shape"
   ]
  },
  {
   "cell_type": "code",
   "execution_count": 466,
   "metadata": {
    "hidden": true
   },
   "outputs": [
    {
     "data": {
      "text/plain": [
       "array([[-7.21899986e-01, -7.29499996e-01,  6.35729980e+00,\n",
       "         1.24480000e+00,  3.62500000e-01,  5.12200000e-01,\n",
       "        -2.32160000e+00],\n",
       "       [-7.76899993e-01, -7.05200016e-01,  6.39820004e+00,\n",
       "         1.31790000e+00,  3.64600000e-01,  5.30800000e-01,\n",
       "        -2.32330000e+00],\n",
       "       [-6.89100027e-01, -5.91400027e-01,  6.37200022e+00,\n",
       "         1.33230000e+00,  3.70600000e-01,  5.03500000e-01,\n",
       "        -2.32360000e+00],\n",
       "       [-7.59199977e-01, -6.44100010e-01,  6.36040020e+00,\n",
       "         1.46170000e+00,  4.01800000e-01,  4.71700000e-01,\n",
       "        -2.31860000e+00],\n",
       "       [-7.30000019e-01, -6.38899982e-01,  6.39139986e+00,\n",
       "         1.48030000e+00,  4.04800000e-01,  4.65300000e-01,\n",
       "        -2.31900000e+00],\n",
       "       [-6.86200023e-01, -6.01400018e-01,  6.42199993e+00,\n",
       "         1.53280000e+00,  4.14800000e-01,  4.62000000e-01,\n",
       "        -2.31670000e+00],\n",
       "       [-6.78799987e-01, -7.05799997e-01,  6.39900017e+00,\n",
       "         1.23870000e+00,  3.80800000e-01,  5.99700000e-01,\n",
       "        -2.31970000e+00],\n",
       "       [-7.91299999e-01, -3.44500005e-01,  6.41400003e+00,\n",
       "         1.53430000e+00,  4.21700000e-01,  4.73700000e-01,\n",
       "        -2.31530000e+00],\n",
       "       [-7.53600001e-01, -3.19799989e-01,  6.43900013e+00,\n",
       "         1.53250000e+00,  4.10500000e-01,  5.04300000e-01,\n",
       "        -2.31500000e+00],\n",
       "       [-8.23199987e-01, -4.01899993e-01,  6.34940004e+00,\n",
       "         1.52440000e+00,  4.19600000e-01,  5.18200000e-01,\n",
       "        -2.31590000e+00],\n",
       "       [-8.26099992e-01, -4.17899996e-01,  6.43620014e+00,\n",
       "         1.55560000e+00,  4.38400000e-01,  5.48800000e-01,\n",
       "        -7.48600000e-01],\n",
       "       [-7.28200018e-01, -7.47300029e-01,  6.47819996e+00,\n",
       "         1.35290000e+00,  4.32100000e-01,  5.54100000e-01,\n",
       "        -2.39260000e+00],\n",
       "       [-5.95600009e-01, -3.34100008e-01,  6.37440014e+00,\n",
       "         1.52750000e+00,  4.35700000e-01,  5.60500000e-01,\n",
       "        -2.31160000e+00],\n",
       "       [-6.10400021e-01, -9.91900027e-01,  6.57420015e+00,\n",
       "         1.33200000e+00,  4.26400000e-01,  4.78400000e-01,\n",
       "        -2.31630000e+00],\n",
       "       [-9.47200000e-01, -4.53700006e-01,  6.43839979e+00,\n",
       "         1.59180000e+00,  4.76500000e-01,  5.96700000e-01,\n",
       "        -7.43300000e-01],\n",
       "       [-6.71899974e-01, -1.01680005e+00,  6.55369997e+00,\n",
       "         1.38880000e+00,  4.46300000e-01,  4.73100000e-01,\n",
       "        -7.49500000e-01],\n",
       "       [-8.63099992e-01, -4.44599986e-01,  6.37430000e+00,\n",
       "         1.58570000e+00,  4.71900000e-01,  5.91600000e-01,\n",
       "        -7.44500000e-01],\n",
       "       [-8.99699986e-01, -4.42799985e-01,  6.41319990e+00,\n",
       "         1.59820000e+00,  4.80500000e-01,  6.00700000e-01,\n",
       "        -7.43600000e-01],\n",
       "       [-6.92579985e+00, -2.69600004e-01,  7.03350019e+00,\n",
       "         1.48010000e+00,  6.44100000e-01,  5.88000000e-01,\n",
       "         7.42000000e-01],\n",
       "       [-6.83669996e+00, -4.53000009e-01,  8.75850010e+00,\n",
       "         1.46640000e+00,  5.00400000e-01,  5.20600000e-01,\n",
       "         7.36500000e-01],\n",
       "       [-6.80219984e+00, -3.62500012e-01,  8.72060013e+00,\n",
       "         1.44730000e+00,  5.25600000e-01,  5.48600000e-01,\n",
       "         7.37900000e-01],\n",
       "       [-6.56969976e+00, -5.66000007e-02,  8.74040031e+00,\n",
       "         1.37790000e+00,  5.15200000e-01,  5.97900000e-01,\n",
       "        -2.40220000e+00],\n",
       "       [-5.65430021e+00, -1.76209998e+00,  1.52517996e+01,\n",
       "         9.72100000e-01,  3.56700000e-01,  5.90300000e-01,\n",
       "        -8.27300000e-01],\n",
       "       [-6.87610006e+00, -4.93400007e-01,  5.33160019e+00,\n",
       "         1.38270000e+00,  6.03600000e-01,  4.94600000e-01,\n",
       "         2.39800000e+00],\n",
       "       [-6.75330019e+00, -3.17600012e-01,  8.71679974e+00,\n",
       "         1.42720000e+00,  5.69700000e-01,  5.89100000e-01,\n",
       "        -8.32600000e-01],\n",
       "       [-6.60010004e+00, -1.32300004e-01,  8.67230034e+00,\n",
       "         1.40870000e+00,  5.08400000e-01,  5.47000000e-01,\n",
       "        -8.29500000e-01],\n",
       "       [-9.47700024e-01, -3.56099993e-01,  6.43860006e+00,\n",
       "         1.63560000e+00,  5.58600000e-01,  6.76200000e-01,\n",
       "        -7.44200000e-01],\n",
       "       [-7.02979994e+00, -1.98249996e+00,  7.27479982e+00,\n",
       "         1.50540000e+00,  7.75700000e-01,  4.65800000e-01,\n",
       "        -8.28700000e-01],\n",
       "       [ 6.99480009e+00, -4.16900009e-01,  5.20660019e+00,\n",
       "         1.51890000e+00,  7.05800000e-01,  6.89300000e-01,\n",
       "         2.40770000e+00],\n",
       "       [-7.53109980e+00, -6.70599997e-01,  1.16253004e+01,\n",
       "         1.10690000e+00,  3.97600000e-01,  5.05700000e-01,\n",
       "        -2.40670000e+00],\n",
       "       [-6.30179977e+00, -2.66799986e-01,  4.58680010e+00,\n",
       "         1.48840000e+00,  6.60000000e-01,  5.86700000e-01,\n",
       "        -7.41300000e-01],\n",
       "       [-7.69390011e+00,  3.11800003e-01,  1.43669004e+01,\n",
       "         8.11100000e-01,  3.72900000e-01,  4.78100000e-01,\n",
       "        -8.21700000e-01],\n",
       "       [-6.85979986e+00, -5.87499976e-01,  5.20009995e+00,\n",
       "         1.43770000e+00,  6.32700000e-01,  4.84800000e-01,\n",
       "         2.39900000e+00],\n",
       "       [-9.15970039e+00, -1.36510003e+00,  1.50847998e+01,\n",
       "         8.47200000e-01,  3.33500000e-01,  5.51000000e-01,\n",
       "        -8.13800000e-01],\n",
       "       [-7.27029991e+00, -2.45409989e+00,  1.10822001e+01,\n",
       "         1.08310000e+00,  4.53500000e-01,  4.91400000e-01,\n",
       "        -8.81400000e-01],\n",
       "       [-6.43100023e+00, -2.74009991e+00,  9.33430004e+00,\n",
       "         1.31080000e+00,  5.48200000e-01,  4.85800000e-01,\n",
       "        -8.58000000e-01],\n",
       "       [-6.22709990e+00,  2.54099995e-01,  8.57450008e+00,\n",
       "         1.55710000e+00,  6.06100000e-01,  6.06300000e-01,\n",
       "        -2.41080000e+00],\n",
       "       [-5.58020020e+00, -1.75909996e+00,  1.52229004e+01,\n",
       "         9.25100000e-01,  3.52000000e-01,  5.63700000e-01,\n",
       "        -8.24900000e-01],\n",
       "       [ 6.82110023e+00, -2.44499996e-01,  8.07979965e+00,\n",
       "         1.50420000e+00,  4.55800000e-01,  5.23500000e-01,\n",
       "         2.39180000e+00],\n",
       "       [-6.26560020e+00,  6.92000017e-02,  9.62619972e+00,\n",
       "         1.23000000e+00,  4.34400000e-01,  4.82900000e-01,\n",
       "        -8.25200000e-01],\n",
       "       [ 7.13439989e+00,  4.00000019e-03,  5.44329977e+00,\n",
       "         1.48220000e+00,  5.25200000e-01,  4.62000000e-01,\n",
       "         2.40100000e+00],\n",
       "       [ 3.59349990e+00, -3.09179997e+00,  1.28694000e+01,\n",
       "         1.25350000e+00,  4.57000000e-01,  6.55700000e-01,\n",
       "        -2.31000000e+00],\n",
       "       [ 1.57470000e+00, -7.90000036e-02,  1.76300004e-01,\n",
       "         1.40890000e+00,  7.37700000e-01,  5.39500000e-01,\n",
       "         2.31040000e+00],\n",
       "       [-6.21509981e+00, -8.95000026e-02,  4.79600000e+00,\n",
       "         1.52590000e+00,  6.01100000e-01,  5.94100000e-01,\n",
       "        -7.42000000e-01],\n",
       "       [-6.25579977e+00, -1.69699997e-01,  4.63549995e+00,\n",
       "         1.50490000e+00,  6.28300000e-01,  5.84800000e-01,\n",
       "        -7.41900000e-01],\n",
       "       [-5.50559998e+00, -1.73829997e+00,  1.52161999e+01,\n",
       "         9.15000000e-01,  3.45800000e-01,  5.43600000e-01,\n",
       "        -8.22400000e-01],\n",
       "       [-5.78219986e+00, -2.24559999e+00,  1.44902000e+01,\n",
       "         1.00450000e+00,  3.47700000e-01,  6.05000000e-01,\n",
       "        -8.34100000e-01],\n",
       "       [-6.62830019e+00, -5.43399990e-01,  1.67270005e+00,\n",
       "         1.32780000e+00,  6.10100000e-01,  4.48200000e-01,\n",
       "         2.40650000e+00],\n",
       "       [-5.57600021e-01, -3.54299992e-01,  6.46000004e+00,\n",
       "         1.49060000e+00,  4.96100000e-01,  6.32900000e-01,\n",
       "        -2.30680000e+00],\n",
       "       [ 7.13990021e+00, -2.12300003e-01,  5.66440010e+00,\n",
       "         1.42090000e+00,  7.41800000e-01,  6.36100000e-01,\n",
       "         2.30780000e+00],\n",
       "       [-5.71470022e+00, -2.21090007e+00,  1.44731998e+01,\n",
       "         9.38200000e-01,  3.41200000e-01,  5.72500000e-01,\n",
       "        -8.32400000e-01],\n",
       "       [-6.44630003e+00, -2.30949998e+00,  1.49274998e+01,\n",
       "         9.30100000e-01,  3.52000000e-01,  5.53800000e-01,\n",
       "        -8.28300000e-01],\n",
       "       [-6.14930010e+00, -5.09000011e-02,  4.70389986e+00,\n",
       "         1.51990000e+00,  5.73200000e-01,  5.44000000e-01,\n",
       "        -7.44400000e-01],\n",
       "       [ 1.52100003e+00, -9.65000018e-02,  1.22199997e-01,\n",
       "         1.40220000e+00,  7.08400000e-01,  5.22900000e-01,\n",
       "        -8.29200000e-01],\n",
       "       [ 7.09159994e+00, -4.05999988e-01,  5.15850019e+00,\n",
       "         1.53240000e+00,  7.07900000e-01,  6.62700000e-01,\n",
       "         2.40470000e+00],\n",
       "       [-6.82009983e+00, -8.29000026e-02,  4.20480013e+00,\n",
       "         1.39040000e+00,  6.14100000e-01,  4.67600000e-01,\n",
       "         8.30800000e-01],\n",
       "       [-5.57649994e+00, -2.13840008e+00,  1.44518995e+01,\n",
       "         1.00580000e+00,  3.47900000e-01,  5.41500000e-01,\n",
       "        -8.31000000e-01],\n",
       "       [ 2.47199997e-01,  2.66000003e-01,  2.95379996e+00,\n",
       "         1.14880000e+00,  3.84800000e-01,  5.23400000e-01,\n",
       "        -2.32090000e+00],\n",
       "       [-4.26690006e+00, -1.22950006e+00,  1.57827997e+01,\n",
       "         7.89000000e-01,  3.85700000e-01,  4.99600000e-01,\n",
       "        -8.21500000e-01],\n",
       "       [-4.01389980e+00, -5.79699993e-01,  1.65907001e+01,\n",
       "         8.67000000e-01,  3.79500000e-01,  5.11500000e-01,\n",
       "        -8.14000000e-01],\n",
       "       [ 7.50360012e+00, -1.47829998e+00,  1.11399996e+00,\n",
       "         1.44600000e+00,  6.21700000e-01,  4.95700000e-01,\n",
       "        -8.31700000e-01],\n",
       "       [ 1.52740002e+00, -9.26000029e-02,  6.10000007e-02,\n",
       "         1.39950000e+00,  6.98000000e-01,  5.22800000e-01,\n",
       "        -8.28600000e-01],\n",
       "       [-4.42400008e-01,  2.13499993e-01,  2.36089993e+00,\n",
       "         1.12240000e+00,  3.65200000e-01,  5.23500000e-01,\n",
       "        -2.32500000e+00],\n",
       "       [-5.65329981e+00, -2.17939997e+00,  1.44687004e+01,\n",
       "         9.47800000e-01,  3.41400000e-01,  5.49300000e-01,\n",
       "        -8.31000000e-01],\n",
       "       [-6.41359997e+00,  5.40000014e-03,  8.09399986e+00,\n",
       "         1.49130000e+00,  5.85200000e-01,  5.36400000e-01,\n",
       "        -2.40730000e+00],\n",
       "       [ 1.59119999e+00, -4.41000015e-02,  2.25899994e-01,\n",
       "         1.40790000e+00,  7.17800000e-01,  5.27500000e-01,\n",
       "         2.30980000e+00],\n",
       "       [-6.51620007e+00, -1.11400001e-01,  8.14050007e+00,\n",
       "         1.53990000e+00,  6.21300000e-01,  6.44500000e-01,\n",
       "        -2.40330000e+00],\n",
       "       [-5.12410021e+00, -2.20029998e+00,  1.43562002e+01,\n",
       "         8.95400000e-01,  3.53400000e-01,  5.25800000e-01,\n",
       "        -8.27200000e-01],\n",
       "       [ 1.55490005e+00, -1.08800001e-01,  8.10000021e-03,\n",
       "         1.38740000e+00,  6.88300000e-01,  5.29100000e-01,\n",
       "        -8.26800000e-01],\n",
       "       [ 2.04999998e-01,  2.51599997e-01,  2.94899988e+00,\n",
       "         1.15080000e+00,  3.84300000e-01,  5.26000000e-01,\n",
       "        -2.32100000e+00],\n",
       "       [-2.12099999e-01, -1.03230000e+00,  4.16357994e+01,\n",
       "         1.01170000e+00,  3.47000000e-01,  4.85200000e-01,\n",
       "        -2.31510000e+00],\n",
       "       [-3.89330006e+00, -1.01269996e+00,  4.13101997e+01,\n",
       "         9.94800000e-01,  3.34700000e-01,  4.95600000e-01,\n",
       "        -2.32420000e+00],\n",
       "       [-3.97799993e+00, -1.05850005e+00,  4.13288002e+01,\n",
       "         9.66300000e-01,  3.29500000e-01,  5.04200000e-01,\n",
       "        -2.32330000e+00],\n",
       "       [-3.68400007e-01, -1.04820001e+00,  4.16287994e+01,\n",
       "         1.01400000e+00,  3.48100000e-01,  4.74900000e-01,\n",
       "        -2.31760000e+00],\n",
       "       [-5.63799977e-01, -1.06410003e+00,  4.16077003e+01,\n",
       "         9.61900000e-01,  3.33800000e-01,  5.14700000e-01,\n",
       "        -2.31780000e+00],\n",
       "       [-3.84349990e+00,  4.59199995e-01,  4.16991005e+01,\n",
       "         1.16150000e+00,  3.95400000e-01,  4.66100000e-01,\n",
       "         7.48100000e-01],\n",
       "       [ 0.00000000e+00,  0.00000000e+00,  0.00000000e+00,\n",
       "         0.00000000e+00,  0.00000000e+00,  0.00000000e+00,\n",
       "         0.00000000e+00],\n",
       "       [ 0.00000000e+00,  0.00000000e+00,  0.00000000e+00,\n",
       "         0.00000000e+00,  0.00000000e+00,  0.00000000e+00,\n",
       "         0.00000000e+00],\n",
       "       [ 0.00000000e+00,  0.00000000e+00,  0.00000000e+00,\n",
       "         0.00000000e+00,  0.00000000e+00,  0.00000000e+00,\n",
       "         0.00000000e+00],\n",
       "       [ 0.00000000e+00,  0.00000000e+00,  0.00000000e+00,\n",
       "         0.00000000e+00,  0.00000000e+00,  0.00000000e+00,\n",
       "         0.00000000e+00],\n",
       "       [ 0.00000000e+00,  0.00000000e+00,  0.00000000e+00,\n",
       "         0.00000000e+00,  0.00000000e+00,  0.00000000e+00,\n",
       "         0.00000000e+00],\n",
       "       [ 0.00000000e+00,  0.00000000e+00,  0.00000000e+00,\n",
       "         0.00000000e+00,  0.00000000e+00,  0.00000000e+00,\n",
       "         0.00000000e+00],\n",
       "       [ 0.00000000e+00,  0.00000000e+00,  0.00000000e+00,\n",
       "         0.00000000e+00,  0.00000000e+00,  0.00000000e+00,\n",
       "         0.00000000e+00],\n",
       "       [ 0.00000000e+00,  0.00000000e+00,  0.00000000e+00,\n",
       "         0.00000000e+00,  0.00000000e+00,  0.00000000e+00,\n",
       "         0.00000000e+00],\n",
       "       [ 0.00000000e+00,  0.00000000e+00,  0.00000000e+00,\n",
       "         0.00000000e+00,  0.00000000e+00,  0.00000000e+00,\n",
       "         0.00000000e+00],\n",
       "       [ 0.00000000e+00,  0.00000000e+00,  0.00000000e+00,\n",
       "         0.00000000e+00,  0.00000000e+00,  0.00000000e+00,\n",
       "         0.00000000e+00],\n",
       "       [ 0.00000000e+00,  0.00000000e+00,  0.00000000e+00,\n",
       "         0.00000000e+00,  0.00000000e+00,  0.00000000e+00,\n",
       "         0.00000000e+00],\n",
       "       [ 0.00000000e+00,  0.00000000e+00,  0.00000000e+00,\n",
       "         0.00000000e+00,  0.00000000e+00,  0.00000000e+00,\n",
       "         0.00000000e+00],\n",
       "       [ 0.00000000e+00,  0.00000000e+00,  0.00000000e+00,\n",
       "         0.00000000e+00,  0.00000000e+00,  0.00000000e+00,\n",
       "         0.00000000e+00],\n",
       "       [ 0.00000000e+00,  0.00000000e+00,  0.00000000e+00,\n",
       "         0.00000000e+00,  0.00000000e+00,  0.00000000e+00,\n",
       "         0.00000000e+00],\n",
       "       [ 0.00000000e+00,  0.00000000e+00,  0.00000000e+00,\n",
       "         0.00000000e+00,  0.00000000e+00,  0.00000000e+00,\n",
       "         0.00000000e+00],\n",
       "       [ 0.00000000e+00,  0.00000000e+00,  0.00000000e+00,\n",
       "         0.00000000e+00,  0.00000000e+00,  0.00000000e+00,\n",
       "         0.00000000e+00],\n",
       "       [ 0.00000000e+00,  0.00000000e+00,  0.00000000e+00,\n",
       "         0.00000000e+00,  0.00000000e+00,  0.00000000e+00,\n",
       "         0.00000000e+00],\n",
       "       [ 0.00000000e+00,  0.00000000e+00,  0.00000000e+00,\n",
       "         0.00000000e+00,  0.00000000e+00,  0.00000000e+00,\n",
       "         0.00000000e+00],\n",
       "       [ 0.00000000e+00,  0.00000000e+00,  0.00000000e+00,\n",
       "         0.00000000e+00,  0.00000000e+00,  0.00000000e+00,\n",
       "         0.00000000e+00],\n",
       "       [ 0.00000000e+00,  0.00000000e+00,  0.00000000e+00,\n",
       "         0.00000000e+00,  0.00000000e+00,  0.00000000e+00,\n",
       "         0.00000000e+00],\n",
       "       [ 0.00000000e+00,  0.00000000e+00,  0.00000000e+00,\n",
       "         0.00000000e+00,  0.00000000e+00,  0.00000000e+00,\n",
       "         0.00000000e+00],\n",
       "       [ 0.00000000e+00,  0.00000000e+00,  0.00000000e+00,\n",
       "         0.00000000e+00,  0.00000000e+00,  0.00000000e+00,\n",
       "         0.00000000e+00],\n",
       "       [ 0.00000000e+00,  0.00000000e+00,  0.00000000e+00,\n",
       "         0.00000000e+00,  0.00000000e+00,  0.00000000e+00,\n",
       "         0.00000000e+00],\n",
       "       [ 0.00000000e+00,  0.00000000e+00,  0.00000000e+00,\n",
       "         0.00000000e+00,  0.00000000e+00,  0.00000000e+00,\n",
       "         0.00000000e+00]])"
      ]
     },
     "execution_count": 466,
     "metadata": {},
     "output_type": "execute_result"
    }
   ],
   "source": [
    "pred_boxes3d_np"
   ]
  },
  {
   "cell_type": "code",
   "execution_count": 456,
   "metadata": {
    "hidden": true
   },
   "outputs": [],
   "source": [
    "IOU_thresh = 0.5\n",
    "true_positives1 = np.sum((gt_iou_np > IOU_thresh))\n",
    "true_positives2 = (gt_max_iou > IOU_thresh).sum().item()"
   ]
  },
  {
   "cell_type": "code",
   "execution_count": 457,
   "metadata": {
    "hidden": true
   },
   "outputs": [
    {
     "name": "stdout",
     "output_type": "stream",
     "text": [
      "1\n",
      "1\n"
     ]
    }
   ],
   "source": [
    "# Compare CPU vs. GPU implementation\n",
    "print(true_positives1)\n",
    "print(true_positives2)"
   ]
  },
  {
   "cell_type": "markdown",
   "metadata": {},
   "source": [
    "# Plot Detections "
   ]
  },
  {
   "cell_type": "code",
   "execution_count": 8,
   "metadata": {
    "scrolled": true
   },
   "outputs": [],
   "source": [
    "def evaluate_detections(dataset, idx, epoch, test_run, no_label=False, show_best_prop_only=False):\n",
    "    # path of output from model\n",
    "    digit = idx_to_str(idx)\n",
    "    OUTPUT_PATH = os.path.join('../../', 'output/kitti_models/pointrcnn/')\n",
    "#     /home/crowdbot/master_lara/OpenPCDet/output/kitti_models/pointrcnn/default/eval/epoch_40/val/default/final_result/data\n",
    "\n",
    "    if dataset == 'custom': \n",
    "        if no_label: \n",
    "            DATA_PATH = os.path.join('../../', 'data/custom_data/')\n",
    "            all_val_files = get_data_files(os.path.join(DATA_PATH, 'test_crowd.txt'))\n",
    "            lidar_file = os.path.join(DATA_PATH, all_val_files[idx])\n",
    "            pts_lidar = load_h5_basic(lidar_file)\n",
    "            bbox_list = [] \n",
    "        else: \n",
    "            DATA_PATH = os.path.join('../../', 'data/custom_data/')\n",
    "            all_val_files = get_data_files(os.path.join(DATA_PATH, 'val.txt'))\n",
    "            # path of lidar frame\n",
    "            lidar_file = os.path.join(DATA_PATH, all_val_files[idx])\n",
    "            pts_lidar, _, bboxes = load_h5(lidar_file, bbox=True)\n",
    "            bbox_list = np.reshape(bboxes, (1,-1)) \n",
    "\n",
    "    elif dataset == 'LCAS': \n",
    "        DATA_PATH = os.path.join('../../', 'data/LCAS/')\n",
    "        all_val_files = get_data_files(os.path.join(DATA_PATH, 'val.txt'))\n",
    "        lidar_file = os.path.join(DATA_PATH, 'data', all_val_files[idx])\n",
    "        label_file = os.path.join(DATA_PATH, 'labels', all_val_files[idx])\n",
    "        pts_lidar = load_h5_basic(lidar_file)\n",
    "        bbox_list = load_h5_basic(label_file)\n",
    "    \n",
    "    assert os.path.exists(lidar_file)\n",
    "    \n",
    "    if not no_label: \n",
    "        # get point cloud data and ground truth \n",
    "        gt_boxes = np.vstack(\n",
    "            [np.array((float(bbox[0]), float(bbox[1]), float(bbox[2]), # x,y,z\n",
    "                       float(bbox[4]), float(bbox[5]), float(bbox[3]), # w,l,h\n",
    "                       float(bbox[6])), dtype=np.float32) for bbox in bbox_list]) # rz\n",
    "    \n",
    "    # detections output path \n",
    "    if no_label: \n",
    "        bboxes3d_path = os.path.join(OUTPUT_PATH, \"{}/eval/epoch_{}/test_crowd/default/final_result/data/{}.txt\".format(test_run, epoch, idx))\n",
    "        gt_boxes = None\n",
    "    else: \n",
    "        bboxes3d_path = os.path.join(OUTPUT_PATH, \"{}/eval/epoch_{}/val/default/final_result/data/{}.txt\".format(test_run, epoch, idx))\n",
    "        print('Ground Truth Boxes: \\n - path: {}\\n - shape: {}'.format(lidar_file, gt_boxes.shape))\n",
    "        \n",
    "    det_boxes = read_annotations(bboxes3d_path)\n",
    "    print('Det_Boxes: \\n - path: {}\\n - shape: {}'.format(bboxes3d_path, det_boxes.shape))\n",
    "    fig = V.draw_scenes(pts_lidar, gt_boxes=gt_boxes, ref_boxes=det_boxes, ref_scores=None, ref_labels=None)\n",
    "\n",
    "    return fig"
   ]
  },
  {
   "cell_type": "code",
   "execution_count": 9,
   "metadata": {},
   "outputs": [],
   "source": [
    "def read_annotations(label_path):    \n",
    "    with open(label_path, 'r') as f:\n",
    "        lines = f.readlines()\n",
    "    content = [line.strip().split(' ') for line in lines]\n",
    "    bboxes = np.vstack(\n",
    "        [np.array((float(det[2]), float(det[3]), float(det[4]), # x,y,z\n",
    "                   float(det[6]), float(det[7]), float(det[5]), # w,l,h\n",
    "                   float(det[8])), dtype=np.float32) for det in content]) # rz\n",
    "    return bboxes"
   ]
  },
  {
   "cell_type": "code",
   "execution_count": 4,
   "metadata": {
    "hide_input": true
   },
   "outputs": [],
   "source": [
    "def evaluate_detections_several_frames(dataset, idx, epoch, test_run, mode='rpn', show_best_prop_only=False, foreground=False):\n",
    "    # path of output from model\n",
    "    bbox_list = []\n",
    "    if foreground: \n",
    "        foreground = np.empty([1, 3])\n",
    "    else: foreground=None\n",
    "    pts_lidar = np.empty([1,4])\n",
    "    for frame_id in idx: \n",
    "        digit = idx_to_str(frame_id)\n",
    "        OUTPUT_PATH = os.path.join('../../', 'output/')\n",
    "\n",
    "        DATA_PATH = os.path.join('../../', 'data/custom_data/')\n",
    "        all_val_files = get_data_files(os.path.join(DATA_PATH, 'val.txt'))\n",
    "        # path of lidar frame\n",
    "        lidar_file = os.path.join(DATA_PATH, all_val_files[frame_id])\n",
    "        pts_lidar_temp, _, bboxes = data_utils.load_h5(lidar_file, bbox=True)\n",
    "        pts_lidar = np.vstack((pts_lidar, pts_lidar_temp))\n",
    "        bbox_list.append(bboxes)\n",
    "        \n",
    "        if foreground: \n",
    "            # load foreground segmentation results \n",
    "            seg_pts_file = os.path.join(OUTPUT_PATH, \"rpn/{}/eval/epoch_{}/val/seg_result/00{}.h5\".format(test_run, epoch, digit))\n",
    "            seg_pts = load_h5_basic(seg_pts_file)\n",
    "            mask = seg_pts[:,4] > 0  \n",
    "            temp_foreground = seg_pts[mask, :][:, 0:3]\n",
    "            mask = temp_foreground[:,1] <= 0 \n",
    "            temp_foreground = temp_foreground[mask, :]\n",
    "            foreground = np.vstack((foreground, temp_foreground))\n",
    "    \n",
    "    assert os.path.exists(lidar_file)\n",
    "    print(lidar_file)\n",
    "\n",
    "    # get point cloud data and ground truth \n",
    "    pts_rect = data_utils.pts_lidar_to_camera(pts_lidar[:, :3])\n",
    "#     gt_objects = [(i, Object3d(box, gt=True)) for i, box in enumerate(bbox_list)]\n",
    "#     gt_objects = [Object3d(box, gt=True) for box in bbox_list]\n",
    "\n",
    "    gt_objects= []\n",
    "\n",
    "    fig = show_lidar_with_boxes(pts_rect, bboxes3d, gt_objects=gt_objects, best_prop_only=show_best_prop_only, foreground=foreground)\n",
    "    return fig"
   ]
  },
  {
   "cell_type": "code",
   "execution_count": 82,
   "metadata": {
    "collapsed": true
   },
   "outputs": [
    {
     "name": "stdout",
     "output_type": "stream",
     "text": [
      "../../data/custom_data/walk_person175_5/frame218.h5\n"
     ]
    },
    {
     "ename": "NameError",
     "evalue": "name 'bboxes3d' is not defined",
     "output_type": "error",
     "traceback": [
      "\u001b[0;31m---------------------------------------------------------------------------\u001b[0m",
      "\u001b[0;31mNameError\u001b[0m                                 Traceback (most recent call last)",
      "\u001b[0;32m<ipython-input-82-5d0c8584495d>\u001b[0m in \u001b[0;36m<module>\u001b[0;34m\u001b[0m\n\u001b[1;32m      3\u001b[0m \u001b[0mepoch\u001b[0m \u001b[0;34m=\u001b[0m \u001b[0;36m200\u001b[0m\u001b[0;34m\u001b[0m\u001b[0;34m\u001b[0m\u001b[0m\n\u001b[1;32m      4\u001b[0m \u001b[0mmode\u001b[0m \u001b[0;34m=\u001b[0m \u001b[0;34m'rpn'\u001b[0m\u001b[0;34m\u001b[0m\u001b[0;34m\u001b[0m\u001b[0m\n\u001b[0;32m----> 5\u001b[0;31m \u001b[0mfig1\u001b[0m \u001b[0;34m=\u001b[0m \u001b[0mevaluate_detections_several_frames\u001b[0m\u001b[0;34m(\u001b[0m\u001b[0;34m'custom'\u001b[0m\u001b[0;34m,\u001b[0m \u001b[0midx\u001b[0m\u001b[0;34m,\u001b[0m \u001b[0mepoch\u001b[0m\u001b[0;34m,\u001b[0m \u001b[0mtest_run\u001b[0m\u001b[0;34m,\u001b[0m \u001b[0mmode\u001b[0m\u001b[0;34m=\u001b[0m\u001b[0mmode\u001b[0m\u001b[0;34m,\u001b[0m \u001b[0mshow_best_prop_only\u001b[0m\u001b[0;34m=\u001b[0m\u001b[0;32mTrue\u001b[0m\u001b[0;34m,\u001b[0m \u001b[0mforeground\u001b[0m\u001b[0;34m=\u001b[0m\u001b[0;32mFalse\u001b[0m\u001b[0;34m)\u001b[0m\u001b[0;34m\u001b[0m\u001b[0;34m\u001b[0m\u001b[0m\n\u001b[0m",
      "\u001b[0;32m<ipython-input-81-112f0afdd07f>\u001b[0m in \u001b[0;36mevaluate_detections_several_frames\u001b[0;34m(dataset, idx, epoch, test_run, mode, show_best_prop_only, foreground)\u001b[0m\n\u001b[1;32m     38\u001b[0m     \u001b[0mgt_objects\u001b[0m\u001b[0;34m=\u001b[0m \u001b[0;34m[\u001b[0m\u001b[0;34m]\u001b[0m\u001b[0;34m\u001b[0m\u001b[0;34m\u001b[0m\u001b[0m\n\u001b[1;32m     39\u001b[0m \u001b[0;34m\u001b[0m\u001b[0m\n\u001b[0;32m---> 40\u001b[0;31m     \u001b[0mfig\u001b[0m \u001b[0;34m=\u001b[0m \u001b[0mshow_lidar_with_boxes\u001b[0m\u001b[0;34m(\u001b[0m\u001b[0mpts_rect\u001b[0m\u001b[0;34m,\u001b[0m \u001b[0mbboxes3d\u001b[0m\u001b[0;34m,\u001b[0m \u001b[0mgt_objects\u001b[0m\u001b[0;34m=\u001b[0m\u001b[0mgt_objects\u001b[0m\u001b[0;34m,\u001b[0m \u001b[0mbest_prop_only\u001b[0m\u001b[0;34m=\u001b[0m\u001b[0mshow_best_prop_only\u001b[0m\u001b[0;34m,\u001b[0m \u001b[0mforeground\u001b[0m\u001b[0;34m=\u001b[0m\u001b[0mforeground\u001b[0m\u001b[0;34m)\u001b[0m\u001b[0;34m\u001b[0m\u001b[0;34m\u001b[0m\u001b[0m\n\u001b[0m\u001b[1;32m     41\u001b[0m     \u001b[0;32mreturn\u001b[0m \u001b[0mfig\u001b[0m\u001b[0;34m\u001b[0m\u001b[0;34m\u001b[0m\u001b[0m\n",
      "\u001b[0;31mNameError\u001b[0m: name 'bboxes3d' is not defined"
     ]
    }
   ],
   "source": [
    "idx = [400,100,50,30]\n",
    "test_run = 'pedestrian2'\n",
    "epoch = 200\n",
    "mode = 'rpn'\n",
    "fig1 = evaluate_detections_several_frames('custom', idx, epoch, test_run, mode=mode, show_best_prop_only=True, foreground=False)"
   ]
  },
  {
   "cell_type": "code",
   "execution_count": 321,
   "metadata": {},
   "outputs": [
    {
     "data": {
      "application/vnd.jupyter.widget-view+json": {
       "model_id": "1f1ba654bfb2469c8379f9e74b484116",
       "version_major": 2,
       "version_minor": 0
      },
      "text/plain": [
       "Image(value=b'\\x89PNG\\r\\n\\x1a\\n\\x00\\x00\\x00\\rIHDR\\x00\\x00\\x06@\\x00\\x00\\x03\\xe8\\x08\\x02\\x00\\x00\\x00\\t\\x19\\xa5\\x…"
      ]
     },
     "metadata": {},
     "output_type": "display_data"
    }
   ],
   "source": [
    "fig1"
   ]
  },
  {
   "cell_type": "code",
   "execution_count": 315,
   "metadata": {},
   "outputs": [],
   "source": [
    "name = 'obj_det_example_3'.format(mode, test_run, epoch, idx)\n",
    "mlab.savefig(filename=os.path.join('../../','plots/{}.png'.format(name)))"
   ]
  },
  {
   "cell_type": "markdown",
   "metadata": {},
   "source": [
    "## Stage 1: RPN Evaluation"
   ]
  },
  {
   "cell_type": "markdown",
   "metadata": {
    "heading_collapsed": true
   },
   "source": [
    "### Custom Dataset "
   ]
  },
  {
   "cell_type": "code",
   "execution_count": 29,
   "metadata": {
    "hidden": true
   },
   "outputs": [
    {
     "name": "stdout",
     "output_type": "stream",
     "text": [
      "../../data/custom_data/person175_8/frame188.h5\n",
      "../../output/rpn/pedestrian_aug_intensity/eval/epoch_165/val/detections/data/000040.txt\n",
      "Bboxes3d: 100\n",
      "('All point num: ', 8627)\n",
      "Got 100 detections\n",
      "Got 1 ground truth objects\n"
     ]
    }
   ],
   "source": [
    "idx = 40\n",
    "test_run = 'pedestrian_aug_intensity'\n",
    "epoch = 165\n",
    "mode = 'rpn'\n",
    "fig1 = evaluate_detections('custom', idx, epoch, test_run, mode=mode, show_best_prop_only=False, foreground=False)"
   ]
  },
  {
   "cell_type": "code",
   "execution_count": 195,
   "metadata": {
    "hidden": true
   },
   "outputs": [
    {
     "name": "stdout",
     "output_type": "stream",
     "text": [
      "../../data/custom_data/test/crowd_01/frame320.h5\n",
      "../../output/rpn/pedestrian2/eval/epoch_200/TEST/test_mode/detections/data/000100.txt\n",
      "('All point num: ', 9594)\n",
      "Got 0 detections\n",
      "Got 0 ground truth objects\n"
     ]
    }
   ],
   "source": [
    "idx = 100\n",
    "mode = 'rpn_test'\n",
    "fig1 = evaluate_detections('custom', idx, epoch, test_run,mode=mode, show_best_prop_only=False)"
   ]
  },
  {
   "cell_type": "code",
   "execution_count": 30,
   "metadata": {
    "hidden": true
   },
   "outputs": [
    {
     "data": {
      "application/vnd.jupyter.widget-view+json": {
       "model_id": "61844b9e5d3f435ba72789fa9c91f22a",
       "version_major": 2,
       "version_minor": 0
      },
      "text/plain": [
       "Image(value=b'\\x89PNG\\r\\n\\x1a\\n\\x00\\x00\\x00\\rIHDR\\x00\\x00\\x06@\\x00\\x00\\x03\\xe8\\x08\\x02\\x00\\x00\\x00\\t\\x19\\xa5\\x…"
      ]
     },
     "metadata": {},
     "output_type": "display_data"
    }
   ],
   "source": [
    "fig1"
   ]
  },
  {
   "cell_type": "code",
   "execution_count": 31,
   "metadata": {
    "hidden": true
   },
   "outputs": [],
   "source": [
    "name = '{}_testrun:{}_epoch{}_idx{}'.format(mode, test_run, epoch, idx)\n",
    "mlab.savefig(filename=os.path.join('../../','plots/{}.png'.format(name)))"
   ]
  },
  {
   "cell_type": "markdown",
   "metadata": {
    "heading_collapsed": true
   },
   "source": [
    "### LCAS Dataset"
   ]
  },
  {
   "cell_type": "code",
   "execution_count": 401,
   "metadata": {
    "hidden": true
   },
   "outputs": [
    {
     "name": "stdout",
     "output_type": "stream",
     "text": [
      "../../data/LCAS/data/1200_1218/frame1846.h5\n",
      "../../output/rpn/LCAS_3/eval/epoch_200/val/detections/data/000300.txt\n",
      "Bboxes3d: 100\n",
      "('All point num: ', 26403)\n",
      "Got 100 detections\n",
      "Got 2 ground truth objects\n"
     ]
    }
   ],
   "source": [
    "idx = 300\n",
    "test_run = 'LCAS_3'\n",
    "epoch = 200\n",
    "mode = 'rpn'\n",
    "fig1 = evaluate_detections('LCAS', idx, epoch, test_run=test_run, show_best_prop_only=False)"
   ]
  },
  {
   "cell_type": "code",
   "execution_count": 402,
   "metadata": {
    "hidden": true
   },
   "outputs": [
    {
     "data": {
      "application/vnd.jupyter.widget-view+json": {
       "model_id": "1b38d0e6f6094a559866ca6bf7823fe1",
       "version_major": 2,
       "version_minor": 0
      },
      "text/plain": [
       "Image(value=b'\\x89PNG\\r\\n\\x1a\\n\\x00\\x00\\x00\\rIHDR\\x00\\x00\\x06@\\x00\\x00\\x03\\xe8\\x08\\x02\\x00\\x00\\x00\\t\\x19\\xa5\\x…"
      ]
     },
     "metadata": {},
     "output_type": "display_data"
    }
   ],
   "source": [
    "fig1"
   ]
  },
  {
   "cell_type": "code",
   "execution_count": 390,
   "metadata": {
    "hidden": true
   },
   "outputs": [],
   "source": [
    "name = '{}_{}_epoch{}_idx{}'.format(mode, test_run, epoch, idx)\n",
    "mlab.savefig(filename=os.path.join('../../','plots/{}.png'.format(name)))"
   ]
  },
  {
   "cell_type": "markdown",
   "metadata": {},
   "source": [
    "## Stage 2: RCNN EVALUATION"
   ]
  },
  {
   "cell_type": "markdown",
   "metadata": {},
   "source": [
    "### Custom Data"
   ]
  },
  {
   "cell_type": "code",
   "execution_count": 20,
   "metadata": {},
   "outputs": [
    {
     "name": "stdout",
     "output_type": "stream",
     "text": [
      "Ground Truth Boxes: \n",
      " - path: ../../data/custom_data/walk_backpack_person175_4/frame37.h5\n",
      " - shape: (1, 7)\n",
      "Det_Boxes: \n",
      " - path: ../../output/kitti_models/pointrcnn/l1_corner_loss_80epochs/eval/epoch_80/val/default/final_result/data/400.txt\n",
      " - shape: (1, 7)\n"
     ]
    }
   ],
   "source": [
    "idx = 400\n",
    "epoch = 80\n",
    "test_run = 'l1_corner_loss_80epochs'\n",
    "fig2 = evaluate_detections('custom',idx, epoch, test_run, no_label=False)"
   ]
  },
  {
   "cell_type": "code",
   "execution_count": 21,
   "metadata": {
    "scrolled": false
   },
   "outputs": [
    {
     "data": {
      "application/vnd.jupyter.widget-view+json": {
       "model_id": "04c984d8a1244eaf85be98a593b90447",
       "version_major": 2,
       "version_minor": 0
      },
      "text/plain": [
       "Image(value=b'\\x89PNG\\r\\n\\x1a\\n\\x00\\x00\\x00\\rIHDR\\x00\\x00\\x03\\xe8\\x00\\x00\\x02X\\x08\\x02\\x00\\x00\\x00~|[r\\x00\\x00…"
      ]
     },
     "metadata": {},
     "output_type": "display_data"
    }
   ],
   "source": [
    "fig2"
   ]
  },
  {
   "cell_type": "code",
   "execution_count": 22,
   "metadata": {},
   "outputs": [],
   "source": [
    "name = 'openpcdet_{}_epoch{}_idx{}'.format(test_run, epoch, idx)\n",
    "mlab.savefig(filename=os.path.join('../../','plots/{}.png'.format(name)))"
   ]
  },
  {
   "cell_type": "markdown",
   "metadata": {},
   "source": [
    "#### Testing"
   ]
  },
  {
   "cell_type": "code",
   "execution_count": 378,
   "metadata": {},
   "outputs": [
    {
     "name": "stdout",
     "output_type": "stream",
     "text": [
      "../../data/custom_data/test/crowd_01/frame1342.h5\n",
      "../../output/rcnn/pedestrian2_aug/eval/epoch_8/val/test_mode/final_result/data/000020.txt\n",
      "Bboxes3d: 7\n",
      "('All point num: ', 9429)\n",
      "Got 7 detections\n",
      "Got 0 ground truth objects\n"
     ]
    }
   ],
   "source": [
    "idx = 20\n",
    "epoch = 8\n",
    "test_run = 'pedestrian2_aug'\n",
    "fig1 = evaluate_detections('custom', idx, epoch, test_run,mode='rcnn_test')"
   ]
  },
  {
   "cell_type": "code",
   "execution_count": 379,
   "metadata": {},
   "outputs": [
    {
     "data": {
      "application/vnd.jupyter.widget-view+json": {
       "model_id": "064596871aae40a99fd60c3c8c4fd99a",
       "version_major": 2,
       "version_minor": 0
      },
      "text/plain": [
       "Image(value=b'\\x89PNG\\r\\n\\x1a\\n\\x00\\x00\\x00\\rIHDR\\x00\\x00\\x06@\\x00\\x00\\x03\\xe8\\x08\\x02\\x00\\x00\\x00\\t\\x19\\xa5\\x…"
      ]
     },
     "metadata": {},
     "output_type": "display_data"
    }
   ],
   "source": [
    "fig2"
   ]
  },
  {
   "cell_type": "code",
   "execution_count": 380,
   "metadata": {},
   "outputs": [],
   "source": [
    "name = '{}_{}_epoch{}_idx{}'.format(mode, test_run, epoch, idx)\n",
    "mlab.savefig(filename=os.path.join('../../','plots/{}.png'.format(name)))"
   ]
  },
  {
   "cell_type": "markdown",
   "metadata": {},
   "source": [
    "## JRDB "
   ]
  },
  {
   "cell_type": "code",
   "execution_count": 8,
   "metadata": {},
   "outputs": [],
   "source": [
    "from pcdet.utils.jrdb_utils import transform_pts_upper_velodyne_to_base, transform_pts_laser_to_base,\\\n",
    "                                   box_from_jrdb, transform_pts_lower_velodyne_to_base"
   ]
  },
  {
   "cell_type": "markdown",
   "metadata": {},
   "source": [
    "### Overview"
   ]
  },
  {
   "cell_type": "code",
   "execution_count": 58,
   "metadata": {},
   "outputs": [],
   "source": [
    "# f = '/hdd/master_lara_data/JRDB/cvgl/group/jrdb/data/train_dataset/pointclouds/hdf5/upper_velodyne/bytes-cafe-2019-02-07_0/000012.h5'                                                                                                                                                                                                                                              \n",
    "f = '/hdd/master_lara_data/JRDB/cvgl/group/jrdb/data/train_dataset/pointclouds/hdf5/upper_velodyne/jordan-hall-2019-04-22_0/000100.h5'                                                                                                                                                                                                                                              \n",
    "f1 = f.replace('upper', 'lower') \n",
    "                                               \n",
    "pts_upper = load_h5_basic(f)\n",
    "pts_coor_upper = transform_pts_upper_velodyne_to_base(pts_upper[:, 0:3].T).T\n",
    "pts_upper_trans = np.hstack((pts_coor_upper, pts_upper[:,3, np.newaxis]))\n",
    "\n",
    "\n",
    "pts_lower = load_h5_basic(f1)\n",
    "pts_coor_lower = transform_pts_lower_velodyne_to_base(pts_lower[:, 0:3].T).T\n",
    "pts_lower_trans = np.hstack((pts_coor_lower, pts_lower[:,3, np.newaxis]))\n",
    "\n",
    "pts_merged = np.concatenate((pts_upper_trans, pts_lower_trans), axis=0)  \n",
    "fig = None\n",
    "fig = V.visualize_pts(pts_merged, show_intensity=True, size=(1000,600))"
   ]
  },
  {
   "cell_type": "code",
   "execution_count": 24,
   "metadata": {},
   "outputs": [],
   "source": [
    "label_dir = '/hdd/master_lara_data/JRDB/cvgl/group/jrdb/data/train_dataset/labels/labels_3d/'"
   ]
  },
  {
   "cell_type": "code",
   "execution_count": 1,
   "metadata": {},
   "outputs": [],
   "source": [
    "import collections\n",
    "import json\n",
    "def get_all_labels(label_dir): \n",
    "    label_dict = collections.defaultdict(dict)   \n",
    "    for json_file in os.listdir(label_dir): \n",
    "        sequence = os.path.basename(os.path.splitext(json_file)[0])\n",
    "        file_dict = load_json_file(os.path.join(label_dir, json_file))\n",
    "        for frame, annotations_list in file_dict['labels'].items(): \n",
    "#                 print(frame, ':', len(annotations_list))\n",
    "            frame_num = frame.split('.')[0]\n",
    "            box_list = []\n",
    "            for anno in annotations_list: \n",
    "                if not anno['attributes']['no_eval']:                    \n",
    "                    box_dict = anno['box']\n",
    "                    xyz = np.array([box_dict[\"cx\"], box_dict[\"cy\"], box_dict[\"cz\"]], dtype=np.float32).reshape(1, 3)\n",
    "#                     xyz_trans = transform_pts_upper_velodyne_to_base(xyz.T).T\n",
    "                    lwh = np.array([box_dict[\"l\"], box_dict[\"w\"], box_dict[\"h\"]], dtype=np.float32).reshape(1, 3)\n",
    "                    box = np.concatenate([xyz, lwh, np.reshape(box_dict['rot_z'], (-1,1))], axis=1)\n",
    "                    box_list.append(box)\n",
    "                label_dict[sequence][frame_num] = box_list \n",
    "    return label_dict "
   ]
  },
  {
   "cell_type": "code",
   "execution_count": 28,
   "metadata": {},
   "outputs": [],
   "source": [
    "def load_json_file(label_file):\n",
    "    \"\"\" Loads json file to a python dictionary.\n",
    "\n",
    "    Args:\n",
    "        label_file: full file path to json file\n",
    "\n",
    "    Returns:\n",
    "        dictionary contained in json file \n",
    "    \"\"\"\n",
    "    with open(label_file) as f:\n",
    "        data = json.load(f)\n",
    "    return data "
   ]
  },
  {
   "cell_type": "code",
   "execution_count": 69,
   "metadata": {
    "scrolled": true
   },
   "outputs": [
    {
     "name": "stdout",
     "output_type": "stream",
     "text": [
      "27\n"
     ]
    }
   ],
   "source": [
    "label_dict = get_all_labels(label_dir)\n",
    "print(label_dict.__len__())"
   ]
  },
  {
   "cell_type": "code",
   "execution_count": 38,
   "metadata": {},
   "outputs": [],
   "source": [
    "def get_label(frame, label_dict, box_object=False):\n",
    "    \"\"\" \n",
    "    Return bbox annotations per frame, defined as (N,7), i.e. (N x [x, y, z, h, w, l, ry])\n",
    "\n",
    "    Args:\n",
    "        frame (string): frame id \n",
    "    \"\"\"\n",
    "    file_parts = frame.split('/')\n",
    "    sequence = file_parts[len(file_parts)-2]   \n",
    "    frame_num = file_parts[-1].split('.')[0]\n",
    "    print('Sequence: {}, Frame: {}'.format(sequence, frame_num))\n",
    "    try: \n",
    "        bbox_list = np.reshape(label_dict[sequence][frame_num],(-1,7)) \n",
    "    except KeyError: \n",
    "        print(\"Label dict does not contain key combination (seq: {}, frame_num: {})\".format(sequence, frame_num))\n",
    "        return None\n",
    "    if box_object: \n",
    "        bbox_obj_list = [Object3d(box, gt=True) for box in bbox_list]\n",
    "        return bbox_obj_list\n",
    "    else: \n",
    "        return bbox_list "
   ]
  },
  {
   "cell_type": "code",
   "execution_count": 70,
   "metadata": {},
   "outputs": [
    {
     "name": "stdout",
     "output_type": "stream",
     "text": [
      "Sequence: jordan-hall-2019-04-22_0, Frame: 000100\n",
      "Num ground truth objects: 10\n"
     ]
    }
   ],
   "source": [
    "gt_boxes = get_label(f, label_dict)\n",
    "gt_corners3d = V.boxes_to_corners_3d(gt_boxes)\n",
    "print('Num ground truth objects: {}'.format(gt_boxes.shape[0]))\n",
    "fig = None\n",
    "fig = V.visualize_pts(pts_merged, show_intensity=True, size=(1000,600))\n",
    "fig = V.draw_corners3d(gt_corners3d, fig=fig, color=(0, 1, 0), max_num=100)"
   ]
  },
  {
   "cell_type": "code",
   "execution_count": 71,
   "metadata": {},
   "outputs": [
    {
     "data": {
      "application/vnd.jupyter.widget-view+json": {
       "model_id": "96a432df2009481880458a28057d125d",
       "version_major": 2,
       "version_minor": 0
      },
      "text/plain": [
       "Image(value=b'\\x89PNG\\r\\n\\x1a\\n\\x00\\x00\\x00\\rIHDR\\x00\\x00\\x03\\xe8\\x00\\x00\\x02X\\x08\\x02\\x00\\x00\\x00~|[r\\x00\\x00…"
      ]
     },
     "metadata": {},
     "output_type": "display_data"
    }
   ],
   "source": [
    "fig"
   ]
  },
  {
   "cell_type": "code",
   "execution_count": 63,
   "metadata": {},
   "outputs": [],
   "source": [
    "name = 'jrdb_test_plot1'\n",
    "mlab.savefig(filename=os.path.join('../../','plots/{}.png'.format(name)))"
   ]
  },
  {
   "cell_type": "markdown",
   "metadata": {},
   "source": [
    "### LCAS"
   ]
  },
  {
   "cell_type": "code",
   "execution_count": 408,
   "metadata": {},
   "outputs": [
    {
     "name": "stdout",
     "output_type": "stream",
     "text": [
      "../../data/LCAS/data/1200_1218/frame2008.h5\n",
      "RCNN MODE\n",
      "../../output/rcnn/LCAS_2/eval/epoch_3/val/final_result/data/000010.txt\n",
      "Bboxes3d: 10\n",
      "('All point num: ', 25852)\n",
      "Got 10 detections\n",
      "Got 1 ground truth objects\n"
     ]
    }
   ],
   "source": [
    "idx = 10\n",
    "test_run = 'LCAS_2'\n",
    "epoch = 3\n",
    "mode = 'rcnn'\n",
    "fig1 = evaluate_detections('LCAS', idx, epoch, test_run=test_run, mode=mode)"
   ]
  },
  {
   "cell_type": "code",
   "execution_count": 409,
   "metadata": {},
   "outputs": [
    {
     "data": {
      "application/vnd.jupyter.widget-view+json": {
       "model_id": "5dcdee461edf40ad8acb14e79a1b3f94",
       "version_major": 2,
       "version_minor": 0
      },
      "text/plain": [
       "Image(value=b'\\x89PNG\\r\\n\\x1a\\n\\x00\\x00\\x00\\rIHDR\\x00\\x00\\x06@\\x00\\x00\\x03\\xe8\\x08\\x02\\x00\\x00\\x00\\t\\x19\\xa5\\x…"
      ]
     },
     "metadata": {},
     "output_type": "display_data"
    }
   ],
   "source": [
    "fig1"
   ]
  },
  {
   "cell_type": "code",
   "execution_count": 338,
   "metadata": {},
   "outputs": [],
   "source": [
    "name = '{}_epoch{}_idx{}_score_based'.format(mode, epoch, idx)\n",
    "mlab.savefig(filename=os.path.join('../../','plots/{}.png'.format(name)))"
   ]
  },
  {
   "cell_type": "markdown",
   "metadata": {},
   "source": [
    "# Evaluate Precision/Recall "
   ]
  },
  {
   "cell_type": "code",
   "execution_count": 15,
   "metadata": {},
   "outputs": [],
   "source": [
    "def get_mAP(prec):\n",
    "    sums = 0\n",
    "    for i in range(0, prec.shape[-1], 4):\n",
    "        sums = sums + prec[..., i]\n",
    "    return sums / 11 * 100\n",
    "\n",
    "def save_fig(fig, path, extension='.pdf'):\n",
    "    save_dir = path + extension\n",
    "    fig.savefig(save_dir, bbox_inches='tight')\n",
    "\n",
    "def eval_detections(detection_boxes, label_boxes, IOU_thresh=0.5):\n",
    "    if (IOU_thresh > 1) & (IOU_thresh <= 0):\n",
    "        raise('IOU Threshold should be between 0 and 1')\n",
    "    num_gt_boxes = len(label_boxes)\n",
    "    # original recall\n",
    "    iou3d = iou3d_utils.boxes_iou3d_gpu(detection_boxes, label_boxes)\n",
    "    # gt_max_iou_in, _ = iou3d.max(dim=0)\n",
    "    gt_iou, _ = iou3d.max(dim=1)\n",
    "    true_positives = (gt_iou > IOU_thresh).sum().item()\n",
    "    false_positives = detection_boxes.__len__() - true_positives\n",
    "    precision = true_positives / (false_positives + true_positives) # divide by all detections \n",
    "    try: \n",
    "        recall = true_positives / label_boxes.__len__() # divide by all ground truths \n",
    "    except ZeroDivisionError: # Avoid division by zero\n",
    "        recall = 0.0\n",
    "    return recall, precision "
   ]
  },
  {
   "cell_type": "code",
   "execution_count": 16,
   "metadata": {},
   "outputs": [],
   "source": [
    "def plot_pr_curve(precision_list, recall_list, filename): \n",
    "    assert len(precision_list) == len(recall_list) \n",
    "    # plot the model precision-recall curve\n",
    "    fig = plt.figure(figsize=(10, 8))\n",
    "    plt.plot(recall_list, precision_list, marker='.', label='PointRCNN')\n",
    "    # axis labels\n",
    "    plt.xlabel('Recall')\n",
    "    plt.ylabel('Precision')\n",
    "    # show the legend\n",
    "    plt.legend()\n",
    "    # show the plot\n",
    "    plt.savefig(filename + '.png', bbox_inches='tight')\n",
    "\n",
    "def MAP_graph(prediction_path, label_path):\n",
    "    precision_list = np.zeros(9)\n",
    "    recall_list = np.zeros(9)\n",
    "    iou = 0.1\n",
    "\n",
    "    for i in range(8):\n",
    "        AP, recall = single_iou_evaluation(prediction_path, label_path, iou)\n",
    "        iou += 0.1\n",
    "        print('IOU :{}, AP: {}, and Recall: {}'.format(iou, AP, recall))\n",
    "        precision_list[i] = AP\n",
    "        recall_list[i] = recall\n",
    "\n",
    "    plt.plot(recall_list, precision_list)\n",
    "    plt.show()\n",
    "\n",
    "def single_iou_evaluation(prediction_path, label_path, iou=0.7):\n",
    "    prediction_files = sorted(os.listdir(prediction_path))\n",
    "    label_files = sorted(os.listdir(label_path))\n",
    "\n",
    "    total_frames = len(prediction_files)\n",
    "    ap_list = np.zeros(total_frames)\n",
    "    total_labels = 0\n",
    "    total_predicted = 0\n",
    "\n",
    "    for i in range(total_frames):\n",
    "        prediction_content =  open(os.path.join(args.prediction_path,prediction_files[i]))\n",
    "        label_content = open(os.path.join(args.label_path,label_files[i]))\n",
    "\n",
    "        prediction_data = build_argo_object_list(json.load(prediction_content))\n",
    "        label_data = build_argo_object_list(json.load(label_content))\n",
    "\n",
    "        TP,FP, Total_GT = evaluate_labels(prediction_data,label_data,iou)\n",
    "        ap_list[i] = TP/(TP+FP)\n",
    "        total_predicted += TP\n",
    "        total_labels += Total_GT\n",
    "\n",
    "    AP = np.mean(ap_list)\n",
    "    recall = (total_predicted/total_labels)\n",
    "    return AP, recall"
   ]
  },
  {
   "cell_type": "code",
   "execution_count": 447,
   "metadata": {
    "scrolled": false
   },
   "outputs": [
    {
     "name": "stdout",
     "output_type": "stream",
     "text": [
      "IOU: 0.1, AP: 0.9425408317898636, and Recall: 0.9998316214850985\n",
      "IOU: 0.2, AP: 0.9418673177302577, and Recall: 0.9991581074254925\n",
      "IOU: 0.3, AP: 0.9351321771341977, and Recall: 0.9922545883145311\n",
      "IOU: 0.4, AP: 0.8834960992310714, and Recall: 0.937531570971544\n",
      "IOU: 0.5, AP: 0.776912499298423, and Recall: 0.8238760734130325\n",
      "IOU: 0.6, AP: 0.5791238704607958, and Recall: 0.6110456305775384\n",
      "IOU: 0.7, AP: 0.26812875343772796, and Recall: 0.28119211988550263\n",
      "IOU: 0.8, AP: 0.04436773867654487, and Recall: 0.04613571308301061\n"
     ]
    },
    {
     "data": {
      "image/png": "[encoded data removed]",
      "text/plain": [
       "<Figure size 432x288 with 1 Axes>"
      ]
     },
     "metadata": {
      "needs_background": "light"
     },
     "output_type": "display_data"
    }
   ],
   "source": [
    "import collections \n",
    "\n",
    "DATA_PATH = os.path.join('../../', 'data/custom_data/')\n",
    "OUTPUT_PATH = os.path.join('../../', 'output/')\n",
    "all_val_files = data_utils.get_data_files(os.path.join(DATA_PATH, 'val.txt'))\n",
    "epoch = 8\n",
    "test_run = 'pedestrian2_aug'\n",
    "mode = 'rcnn'\n",
    "\n",
    "total_frames = len(all_val_files)\n",
    "\n",
    "frame_no_dets = collections.defaultdict(list)\n",
    "precision_list = np.zeros(9)\n",
    "recall_list = np.zeros(9)\n",
    "iou = 0.1\n",
    "for i in range(8): \n",
    "    recall_iou = [] \n",
    "    ap_list = []\n",
    "    for idx, frame in enumerate(all_val_files): \n",
    "        digit = idx_to_str(idx)\n",
    "        lidar_file = os.path.join(DATA_PATH, frame)\n",
    "        _, _, bboxes = data_utils.load_h5(lidar_file, bbox=True)\n",
    "\n",
    "        bbox_list = np.reshape(bboxes, (1,-1)) \n",
    "        gt_boxes3d_list = [Object3d(box, gt=True) for box in bbox_list]\n",
    "        gt_boxes3d_np = np.array([(obj.pos[0], obj.pos[1], obj.pos[2], obj.h, obj.w, obj.l, obj.ry) for obj in gt_boxes3d_list])\n",
    "        gt_boxes3d = torch.from_numpy(gt_boxes3d_np).contiguous().cuda(non_blocking=True).float()\n",
    "\n",
    "        bboxes3d_path = os.path.join(OUTPUT_PATH, \"{}/{}/eval/epoch_{}/val/final_result/data/00{}.txt\".format(mode, test_run, epoch, digit))\n",
    "        pred_boxes3d_list = get_objects_from_label(bboxes3d_path)\n",
    "        pred_boxes3d_np = np.array([(obj.pos[0], obj.pos[1], obj.pos[2], obj.h, obj.w, obj.l, obj.ry) for obj in pred_boxes3d_list])\n",
    "        pred_boxes3d = torch.from_numpy(pred_boxes3d_np).contiguous().cuda(non_blocking=True).float()\n",
    "\n",
    "        if pred_boxes3d.shape[0] == 0:\n",
    "            frame_no_dets[\"{}: {}\".format(idx,frame)].append(iou)\n",
    "            recall = precision = 0.0\n",
    "        else: \n",
    "            recall, precision = eval_detections(pred_boxes3d, gt_boxes3d, IOU_thresh=iou)\n",
    "        ap_list.append(precision)\n",
    "        recall_iou.append(recall)\n",
    "    AP= np.mean(ap_list)\n",
    "    recall = np.mean(recall_iou)\n",
    "    print('IOU: {}, AP: {}, and Recall: {}'.format(iou, AP, recall))\n",
    "    iou = np.round(iou+0.1, decimals=1) \n",
    "    precision_list[i] = AP\n",
    "    recall_list[i] = recall\n",
    "plt.plot(recall_list, precision_list)\n",
    "plt.xlabel('Recall')\n",
    "plt.ylabel('Precision')\n",
    "plt.show()"
   ]
  },
  {
   "cell_type": "code",
   "execution_count": 35,
   "metadata": {
    "scrolled": false
   },
   "outputs": [
    {
     "name": "stdout",
     "output_type": "stream",
     "text": [
      "IoU = 0.3\n",
      "Precision: 0.9848537005163511\n",
      "Recall: 0.9634618622663748\n",
      "Average Precision: 0.9618340782653334\n",
      "IoU = 0.35\n",
      "Precision: 0.9762478485370052\n",
      "Recall: 0.9550429365212999\n",
      "Average Precision: 0.9509122138486279\n",
      "IoU = 0.4\n",
      "Precision: 0.9542168674698795\n",
      "Recall: 0.9334904866139081\n",
      "Average Precision: 0.9215352047564587\n",
      "IoU = 0.45\n",
      "Precision: 0.9108433734939759\n",
      "Recall: 0.8910591008587304\n",
      "Average Precision: 0.8592627923799996\n",
      "IoU = 0.5\n",
      "Precision: 0.8588640275387264\n",
      "Recall: 0.8402087893584779\n",
      "Average Precision: 0.7801883371516545\n",
      "IoU = 0.55\n",
      "Precision: 0.7910499139414802\n",
      "Recall: 0.7738676544872874\n",
      "Average Precision: 0.6846120224194261\n",
      "IoU = 0.6\n",
      "Precision: 0.7025817555938038\n",
      "Recall: 0.6873210978279172\n",
      "Average Precision: 0.5567360163256988\n",
      "IoU = 0.65\n",
      "Precision: 0.5860585197934596\n",
      "Recall: 0.5733288432396026\n",
      "Average Precision: 0.398085675322601\n",
      "IoU = 0.7\n",
      "Precision: 0.4304647160068847\n",
      "Recall: 0.4211146657686479\n",
      "Average Precision: 0.22155638004040468\n",
      "IoU = 0.75\n",
      "Precision: 0.2685025817555938\n",
      "Recall: 0.2626704832463378\n",
      "Average Precision: 0.09442742203767301\n",
      "IoU = 0.8\n",
      "Precision: 0.1278829604130809\n",
      "Recall: 0.12510523657181344\n",
      "Average Precision: 0.0237792130188144\n",
      "IoU = 0.85\n",
      "Precision: 0.03820998278829604\n",
      "Recall: 0.03738003030813268\n",
      "Average Precision: 0.002419506536223256\n",
      "IoU = 0.9\n",
      "Precision: 0.0049913941480206545\n",
      "Recall: 0.004882976932143459\n",
      "Average Precision: 0.00013713157235874194\n"
     ]
    },
    {
     "data": {
      "image/png": "[encoded data removed]",
      "text/plain": [
       "<Figure size 720x576 with 1 Axes>"
      ]
     },
     "metadata": {
      "needs_background": "light"
     },
     "output_type": "display_data"
    },
    {
     "name": "stdout",
     "output_type": "stream",
     "text": [
      "Frames without detections: 182\n"
     ]
    }
   ],
   "source": [
    "import collections \n",
    "import pandas as pd \n",
    "\n",
    "DATA_PATH = os.path.join('../../', 'data/custom_data/')\n",
    "OUTPUT_PATH = os.path.join('../../', 'output/')\n",
    "all_val_files = data_utils.get_data_files(os.path.join(DATA_PATH, 'val.txt'))\n",
    "epoch = 28 # 8\n",
    "# test_run = 'pedestrian2_aug'\n",
    "test_run = 'pedestrian_aug_intensity_fix'\n",
    "mode = 'rcnn'\n",
    "\n",
    "total_frames = len(all_val_files)\n",
    "iou_thresholds = np.arange(0.3, 0.9, 0.05)\n",
    "\n",
    "COLORS = [\n",
    "    '#1f77b4', '#aec7e8', '#ff7f0e', '#ffbb78', '#2ca02c',\n",
    "    '#98df8a', '#d62728', '#ff9896', '#9467bd', '#c5b0d5',\n",
    "    '#8c564b', '#c49c94', '#e377c2', '#f7b6d2', '#7f7f7f',\n",
    "    '#c7c7c7', '#bcbd22', '#dbdb8d', '#17becf', '#9edae5']\n",
    "frame_no_dets = collections.defaultdict(list)\n",
    "precision_list = np.zeros(9)\n",
    "recall_list = np.zeros(9)\n",
    "score_thresh = 0.3\n",
    "ax = None\n",
    "for i, iou in enumerate(iou_thresholds): \n",
    "    iou = np.round(iou, decimals=2) \n",
    "    print('IoU = {}'.format(iou))\n",
    "    preds = np.empty([0,10])\n",
    "    pred_ct = 0 \n",
    "    total_gt_boxes = 0 \n",
    "    no_dets_ct = 0 \n",
    "    for idx, frame in enumerate(all_val_files): \n",
    "#         print(frame)\n",
    "        digit = idx_to_str(idx)\n",
    "        lidar_file = os.path.join(DATA_PATH, frame)\n",
    "        _, _, bboxes = data_utils.load_h5(lidar_file, bbox=True)\n",
    "\n",
    "        bbox_list = np.reshape(bboxes, (-1,bboxes.shape[-1])) \n",
    "        num_gt_boxes = len(bbox_list)\n",
    "        total_gt_boxes += num_gt_boxes\n",
    "        \n",
    "        gt_boxes3d_list = [Object3d(box, gt=True) for box in bbox_list]\n",
    "        gt_boxes3d_np = np.array([(obj.pos[0], obj.pos[1], obj.pos[2], obj.h, obj.w, obj.l, obj.ry) for obj in gt_boxes3d_list])\n",
    "#         gt_boxes3d_np = np.vstack((gt_boxes3d_np,gt_boxes3d_np))\n",
    "        gt_boxes3d = torch.from_numpy(gt_boxes3d_np).contiguous().cuda(non_blocking=True).float()\n",
    "        \n",
    "        bboxes3d_path = os.path.join(OUTPUT_PATH, \"{}/{}/eval/epoch_{}/val/final_result/data/00{}.txt\".format(mode, test_run, epoch, digit))\n",
    "        pred_boxes3d_list = get_objects_from_label(bboxes3d_path)\n",
    "        pred_boxes3d_np = np.array([(obj.pos[0], obj.pos[1], obj.pos[2], obj.h, obj.w, obj.l, obj.ry) for obj in pred_boxes3d_list])\n",
    "        \n",
    "        scores = np.array([obj.score for obj in pred_boxes3d_list])\n",
    "        raw_scores = torch.from_numpy(scores).contiguous().cuda(non_blocking=True).float()\n",
    "        norm_scores = torch.sigmoid(raw_scores).cpu().numpy()\n",
    "        scores_sorted = np.sort(norm_scores)[::-1] # sort scores \n",
    "        scores_idx = np.argsort(norm_scores)[::-1] # keep track of original indices \n",
    "        filter_ids = np.where(scores_sorted > score_thresh)[0] # Remove boxes with scores lower than threshold scores\n",
    "        scores_idx = scores_idx[filter_ids]\n",
    "        pred_boxes3d_np = pred_boxes3d_np[scores_idx] # order predictions with descending score \n",
    "        pred_boxes3d = torch.from_numpy(pred_boxes3d_np).contiguous().cuda(non_blocking=True).float()\n",
    "        num_preds = pred_boxes3d.shape[0]\n",
    "        pred_ct += num_preds\n",
    "\n",
    "        if num_preds == 0: \n",
    "            no_dets_ct +=1 \n",
    "            continue \n",
    "        \n",
    "        iou3d = iou3d_utils.boxes_iou3d_gpu(pred_boxes3d, gt_boxes3d)\n",
    "        max_iou, gt_ind = iou3d.max(dim=1)\n",
    "        assigned_gt_box_idx = []\n",
    "        true_positive_mask = []\n",
    "        for el in zip(max_iou,gt_ind): \n",
    "            if el[0].item() > iou and el[1].item() not in assigned_gt_box_idx: \n",
    "                true_positive_mask.append(1.0)\n",
    "            else: \n",
    "                true_positive_mask.append(0.0)\n",
    "            \n",
    "        true_positive_mask = (max_iou > iou).float().cpu().numpy()\n",
    "        preds_temp=np.hstack((pred_boxes3d_np, \n",
    "                              scores[scores_idx].reshape(num_preds,-1), \n",
    "                              true_positive_mask.reshape(num_preds,-1), \n",
    "                              gt_ind.cpu().numpy().reshape(num_preds,-1)))\n",
    "        \n",
    "        preds_temp = preds_temp[np.argsort(preds_temp[:, 7])[::-1]]\n",
    "        # add predictions for current frame to all predictions in entire test set \n",
    "        preds = np.vstack((preds, preds_temp))\n",
    "    # sort all detections by score \n",
    "    pred_final = preds[np.argsort(preds[:, 7])[::-1]]\n",
    "    AP, cum_precisions, cum_recalls, precision, recall = compute_ap(pred_final[:, 8], total_gt_boxes, pred_ct)\n",
    "    \n",
    "    print('Precision: {}\\nRecall: {}'.format(precision, recall))\n",
    "    print('Average Precision: {}'.format(AP))\n",
    "#     fig_name = \"PRCurve_val_\" + config['name']\n",
    "    legend = \"IOU={}: AP={:.1%}, Recall={:05.4f}\".format(iou, AP, recall)\n",
    "    ax = plot_pr_curve(cum_precisions, cum_recalls, score_thresh, label=legend, color=COLORS[i], ax=ax)\n",
    "\n",
    "plt.legend(loc='lower right', title='IOU Thresh', frameon=True, fontsize='medium')\n",
    "# plt.legend(loc='upper right', title='IOU Thresh', bbox_to_anchor=(1.45,1), borderaxespad=0,frameon=True, fontsize='medium')\n",
    "\n",
    "\n",
    "for xval in np.linspace(0.0, 1.0, 11):\n",
    "    plt.vlines(xval, 0.0, 1.1, color='gray', alpha=0.3, linestyles='dashed')\n",
    "filename=os.path.join('../../plots/', 'pr_curve_scorethresh{}.pdf'.format(score_thresh))\n",
    "plt.savefig(filename, bbox_inches=\"tight\")\n",
    "plt.show()\n",
    "print('Frames without detections: {}'.format(no_dets_ct))"
   ]
  },
  {
   "cell_type": "code",
   "execution_count": 65,
   "metadata": {},
   "outputs": [
    {
     "name": "stdout",
     "output_type": "stream",
     "text": [
      "[0 1]\n"
     ]
    }
   ],
   "source": [
    "norm_scores = torch.sigmoid(raw_scores).cpu().numpy()\n",
    "scores_sorted = np.sort(norm_scores)[::-1] # sort scores \n",
    "scores_idx = np.argsort(norm_scores)[::-1] # keep track of original indices \n",
    "\n",
    "print(scores_idx)"
   ]
  },
  {
   "cell_type": "code",
   "execution_count": 78,
   "metadata": {},
   "outputs": [
    {
     "name": "stdout",
     "output_type": "stream",
     "text": [
      "torch.Size([2])\n",
      "tensor([0.9580, 0.4994], device='cuda:0')\n",
      "tensor([0, 1], device='cuda:0')\n",
      "(tensor([0, 1], device='cuda:0'),)\n"
     ]
    }
   ],
   "source": [
    "norm_scores_torch = torch.sigmoid(raw_scores)\n",
    "print(norm_scores_torch.shape)\n",
    "scores_idx = torch.argsort(norm_scores_torch, dim=0, descending=True)\n",
    "scores_sorted,_ = torch.sort(norm_scores_torch, dim=0, descending=True)\n",
    "print(scores_sorted)\n",
    "\n",
    "print(scores_idx)\n",
    "\n",
    "filter_ids = torch.where(scores_sorted > score_thresh)\n",
    "print(filter_ids)\n",
    "\n",
    "scores_idx = scores_idx[filter_ids]"
   ]
  },
  {
   "cell_type": "code",
   "execution_count": 34,
   "metadata": {},
   "outputs": [],
   "source": [
    "# def plot_pr_curve(precisions, recalls, legend, name='PRCurve'):\n",
    "#     # fig_name = \"PRCurve_train_\" + config['name']\n",
    "#     # legend = \"AP={:.1%} @IOU=0.5\".format(train_metrics['AP'])\n",
    "#     fig, ax = plt.subplots()\n",
    "#     ax.plot(recalls, precisions, \".\")\n",
    "#     ax.set_title(\"Precision Recall Curve\")\n",
    "#     ax.set_xlabel(\"Recall\")\n",
    "#     ax.set_ylabel(\"Precision\")\n",
    "#     ax.legend([legend], loc='upper right')\n",
    "#     plt.show()    \n",
    "#     return fig \n",
    "# #     path = os.path.join(\"Figures\", name)\n",
    "# #     fig.savefig(path)\n",
    "# #     print(\"PR Curve saved at\", path)\n",
    "\n",
    "def plot_pr_curve(\n",
    "    precisions, recalls, score_thresh, label=None, color=None, ax=None):\n",
    "    \"\"\"Simple plotting helper function\"\"\"\n",
    "\n",
    "    if ax is None:\n",
    "        plt.figure(figsize=(10,8))\n",
    "        ax = plt.gca()\n",
    "\n",
    "    if color is None:\n",
    "        color = COLORS[0]\n",
    "    ax.scatter(recalls, precisions, label=label, s=20, color=color)\n",
    "    ax.set_xlabel('recall')\n",
    "    ax.set_ylabel('precision')\n",
    "    title= 'Precision-Recall curve for Human class with score threshold = {}'.format(score_thresh)\n",
    "    ax.set_title(title)\n",
    "    ax.set_xlim([0.0,1.1])\n",
    "    ax.set_ylim([0.0,1.1])\n",
    "    return ax"
   ]
  },
  {
   "cell_type": "code",
   "execution_count": 33,
   "metadata": {},
   "outputs": [],
   "source": [
    "def compute_ap(tp_list, num_gt, num_pred):\n",
    "\n",
    "    assert num_gt != 0\n",
    "    assert num_pred != 0\n",
    "    tp = tp_list.sum()\n",
    "    # Compute precision and recall at each prediction box step\n",
    "    cum_precisions = np.cumsum(tp_list) / (np.arange(num_pred) + 1)\n",
    "    cum_recalls = np.cumsum(tp_list).astype(np.float32) / num_gt\n",
    "    \n",
    "    # Pad with start and end values to simplify the math\n",
    "    cum_precisions = np.concatenate([[0], cum_precisions, [0]])\n",
    "    cum_recalls = np.concatenate([[0], cum_recalls, [1]])\n",
    "\n",
    "    # Ensure precision values decrease but don't increase. This way, the\n",
    "    # precision value at each recall threshold is the maximum it can be\n",
    "    # for all following recall thresholds, as specified by the VOC paper.\n",
    "    for i in range(len(cum_precisions) - 2, -1, -1):\n",
    "        cum_precisions[i] = np.maximum(cum_precisions[i], cum_precisions[i + 1])\n",
    "\n",
    "    # Compute AP \n",
    "    # to calculate area under PR curve, look for points\n",
    "    # where X axis (recall) changes value\n",
    "    indices = np.where(cum_recalls[:-1] != cum_recalls[1:])[0] + 1\n",
    "    AP = np.sum((cum_recalls[indices] - cum_recalls[indices - 1]) *\n",
    "                 cum_precisions[indices])\n",
    "    precision = tp / num_pred\n",
    "    recall = tp / num_gt\n",
    "    return AP, cum_precisions, cum_recalls, precision, recall\n",
    "\n",
    "def compute_matches(gt_boxes,\n",
    "                    pred_boxes, pred_scores,\n",
    "                    iou_threshold=0.5, score_threshold=0.0):\n",
    "    \"\"\"Finds matches between prediction and ground truth instances.\n",
    "    Returns:\n",
    "        gt_match: 1-D array. For each GT box it has the index of the matched\n",
    "                  predicted box.\n",
    "        pred_match: 1-D array. For each predicted box, it has the index of\n",
    "                    the matched ground truth box.\n",
    "        overlaps: [pred_boxes, gt_boxes] IoU overlaps.\n",
    "    \"\"\"\n",
    "\n",
    "    if len(pred_scores) == 0:\n",
    "        return -1 * np.ones([gt_boxes.shape[0]]), np.array([]), np.array([])\n",
    "\n",
    "    gt_class_ids = np.ones(len(gt_boxes), dtype=int)\n",
    "    pred_class_ids = np.ones(len(pred_scores), dtype=int)\n",
    "\n",
    "    # Sort predictions by score from high to low\n",
    "    indices = np.argsort(pred_scores)[::-1]\n",
    "    pred_boxes = pred_boxes[indices]\n",
    "    pred_class_ids = pred_class_ids[indices]\n",
    "    pred_scores = pred_scores[indices]\n",
    "\n",
    "    # Compute IoU overlaps [pred_boxes, gt_boxes]\n",
    "    pred_boxes3d = torch.from_numpy(pred_boxes).contiguous().cuda(non_blocking=True).float()\n",
    "    gt_boxes3d = torch.from_numpy(gt_boxes).contiguous().cuda(non_blocking=True).float()\n",
    "    iou3d = iou3d_utils.boxes_iou3d_gpu(pred_boxes3d, gt_boxes3d)\n",
    "    overlaps = iou3d.cpu().numpy()\n",
    "\n",
    "    # Loop through predictions and find matching ground truth boxes\n",
    "    match_count = 0\n",
    "    pred_match = -1 * np.ones([pred_boxes.shape[0]])\n",
    "    gt_match = -1 * np.ones([gt_boxes.shape[0]])\n",
    "    for i in range(len(pred_boxes)):\n",
    "        # Find best matching ground truth box\n",
    "        # 1. Sort matches by score\n",
    "        sorted_ixs = np.argsort(overlaps[i])[::-1]\n",
    "        # 2. Remove low scores\n",
    "        low_score_idx = np.where(overlaps[i, sorted_ixs] < score_threshold)[0]\n",
    "        if low_score_idx.size > 0:\n",
    "            sorted_ixs = sorted_ixs[:low_score_idx[0]]\n",
    "        # 3. Find the match\n",
    "        for j in sorted_ixs:\n",
    "            # If ground truth box is already matched, go to next one\n",
    "            if gt_match[j] > 0:\n",
    "                continue\n",
    "            # If we reach IoU smaller than the threshold, end the loop\n",
    "            iou = overlaps[i, j]\n",
    "            if iou < iou_threshold:\n",
    "                break\n",
    "            # Do we have a match?\n",
    "            if pred_class_ids[i] == gt_class_ids[j]:\n",
    "                match_count += 1\n",
    "                gt_match[j] = i\n",
    "                pred_match[i] = j\n",
    "                break\n",
    "\n",
    "    return gt_match, pred_match, overlaps"
   ]
  },
  {
   "cell_type": "code",
   "execution_count": 551,
   "metadata": {},
   "outputs": [],
   "source": [
    "test2 = test.sort_values(7, axis=0, ascending=False)"
   ]
  },
  {
   "cell_type": "code",
   "execution_count": 552,
   "metadata": {},
   "outputs": [
    {
     "data": {
      "text/html": [
       "<div>\n",
       "<style scoped>\n",
       "    .dataframe tbody tr th:only-of-type {\n",
       "        vertical-align: middle;\n",
       "    }\n",
       "\n",
       "    .dataframe tbody tr th {\n",
       "        vertical-align: top;\n",
       "    }\n",
       "\n",
       "    .dataframe thead th {\n",
       "        text-align: right;\n",
       "    }\n",
       "</style>\n",
       "<table border=\"1\" class=\"dataframe\">\n",
       "  <thead>\n",
       "    <tr style=\"text-align: right;\">\n",
       "      <th></th>\n",
       "      <th>0</th>\n",
       "      <th>1</th>\n",
       "      <th>2</th>\n",
       "      <th>3</th>\n",
       "      <th>4</th>\n",
       "      <th>5</th>\n",
       "      <th>6</th>\n",
       "      <th>7</th>\n",
       "      <th>8</th>\n",
       "      <th>9</th>\n",
       "    </tr>\n",
       "  </thead>\n",
       "  <tbody>\n",
       "    <tr>\n",
       "      <th>6373</th>\n",
       "      <td>0.7282</td>\n",
       "      <td>-0.6073</td>\n",
       "      <td>3.1632</td>\n",
       "      <td>0.9298</td>\n",
       "      <td>0.4822</td>\n",
       "      <td>0.7483</td>\n",
       "      <td>-2.3898</td>\n",
       "      <td>5.2153</td>\n",
       "      <td>1.0</td>\n",
       "      <td>0.0</td>\n",
       "    </tr>\n",
       "    <tr>\n",
       "      <th>2528</th>\n",
       "      <td>0.4953</td>\n",
       "      <td>-0.7095</td>\n",
       "      <td>4.2380</td>\n",
       "      <td>1.2906</td>\n",
       "      <td>0.5380</td>\n",
       "      <td>0.7890</td>\n",
       "      <td>-2.3199</td>\n",
       "      <td>5.0391</td>\n",
       "      <td>1.0</td>\n",
       "      <td>0.0</td>\n",
       "    </tr>\n",
       "    <tr>\n",
       "      <th>6319</th>\n",
       "      <td>0.3520</td>\n",
       "      <td>-0.5926</td>\n",
       "      <td>3.2305</td>\n",
       "      <td>1.0199</td>\n",
       "      <td>0.4457</td>\n",
       "      <td>0.7102</td>\n",
       "      <td>-2.3849</td>\n",
       "      <td>4.9451</td>\n",
       "      <td>0.0</td>\n",
       "      <td>0.0</td>\n",
       "    </tr>\n",
       "    <tr>\n",
       "      <th>6277</th>\n",
       "      <td>-1.1135</td>\n",
       "      <td>-0.5068</td>\n",
       "      <td>2.3140</td>\n",
       "      <td>0.9792</td>\n",
       "      <td>0.4222</td>\n",
       "      <td>0.7021</td>\n",
       "      <td>-2.3810</td>\n",
       "      <td>4.9272</td>\n",
       "      <td>1.0</td>\n",
       "      <td>0.0</td>\n",
       "    </tr>\n",
       "    <tr>\n",
       "      <th>6100</th>\n",
       "      <td>0.3697</td>\n",
       "      <td>-0.4974</td>\n",
       "      <td>2.2214</td>\n",
       "      <td>0.8674</td>\n",
       "      <td>0.5014</td>\n",
       "      <td>0.7182</td>\n",
       "      <td>-2.3924</td>\n",
       "      <td>4.9232</td>\n",
       "      <td>1.0</td>\n",
       "      <td>0.0</td>\n",
       "    </tr>\n",
       "    <tr>\n",
       "      <th>...</th>\n",
       "      <td>...</td>\n",
       "      <td>...</td>\n",
       "      <td>...</td>\n",
       "      <td>...</td>\n",
       "      <td>...</td>\n",
       "      <td>...</td>\n",
       "      <td>...</td>\n",
       "      <td>...</td>\n",
       "      <td>...</td>\n",
       "      <td>...</td>\n",
       "    </tr>\n",
       "    <tr>\n",
       "      <th>3389</th>\n",
       "      <td>-6.2911</td>\n",
       "      <td>-0.7161</td>\n",
       "      <td>2.1677</td>\n",
       "      <td>1.6806</td>\n",
       "      <td>1.2181</td>\n",
       "      <td>0.9507</td>\n",
       "      <td>-0.8161</td>\n",
       "      <td>-0.9209</td>\n",
       "      <td>1.0</td>\n",
       "      <td>0.0</td>\n",
       "    </tr>\n",
       "    <tr>\n",
       "      <th>4203</th>\n",
       "      <td>-6.3950</td>\n",
       "      <td>-0.4685</td>\n",
       "      <td>4.0305</td>\n",
       "      <td>1.6435</td>\n",
       "      <td>0.5927</td>\n",
       "      <td>0.4615</td>\n",
       "      <td>0.8218</td>\n",
       "      <td>-1.0726</td>\n",
       "      <td>1.0</td>\n",
       "      <td>0.0</td>\n",
       "    </tr>\n",
       "    <tr>\n",
       "      <th>4621</th>\n",
       "      <td>-6.8391</td>\n",
       "      <td>-1.8712</td>\n",
       "      <td>4.7882</td>\n",
       "      <td>1.3953</td>\n",
       "      <td>0.4839</td>\n",
       "      <td>0.4332</td>\n",
       "      <td>-0.8220</td>\n",
       "      <td>-1.2342</td>\n",
       "      <td>0.0</td>\n",
       "      <td>0.0</td>\n",
       "    </tr>\n",
       "    <tr>\n",
       "      <th>4204</th>\n",
       "      <td>-6.5031</td>\n",
       "      <td>-1.4975</td>\n",
       "      <td>0.0287</td>\n",
       "      <td>1.2943</td>\n",
       "      <td>0.6966</td>\n",
       "      <td>0.6092</td>\n",
       "      <td>2.3135</td>\n",
       "      <td>-1.6668</td>\n",
       "      <td>0.0</td>\n",
       "      <td>0.0</td>\n",
       "    </tr>\n",
       "    <tr>\n",
       "      <th>5656</th>\n",
       "      <td>-6.5248</td>\n",
       "      <td>-1.4793</td>\n",
       "      <td>0.0055</td>\n",
       "      <td>1.2839</td>\n",
       "      <td>0.7938</td>\n",
       "      <td>0.6663</td>\n",
       "      <td>2.3150</td>\n",
       "      <td>-1.8196</td>\n",
       "      <td>0.0</td>\n",
       "      <td>0.0</td>\n",
       "    </tr>\n",
       "  </tbody>\n",
       "</table>\n",
       "<p>6657 rows × 10 columns</p>\n",
       "</div>"
      ],
      "text/plain": [
       "           0       1       2       3       4       5       6       7    8    9\n",
       "6373  0.7282 -0.6073  3.1632  0.9298  0.4822  0.7483 -2.3898  5.2153  1.0  0.0\n",
       "2528  0.4953 -0.7095  4.2380  1.2906  0.5380  0.7890 -2.3199  5.0391  1.0  0.0\n",
       "6319  0.3520 -0.5926  3.2305  1.0199  0.4457  0.7102 -2.3849  4.9451  0.0  0.0\n",
       "6277 -1.1135 -0.5068  2.3140  0.9792  0.4222  0.7021 -2.3810  4.9272  1.0  0.0\n",
       "6100  0.3697 -0.4974  2.2214  0.8674  0.5014  0.7182 -2.3924  4.9232  1.0  0.0\n",
       "...      ...     ...     ...     ...     ...     ...     ...     ...  ...  ...\n",
       "3389 -6.2911 -0.7161  2.1677  1.6806  1.2181  0.9507 -0.8161 -0.9209  1.0  0.0\n",
       "4203 -6.3950 -0.4685  4.0305  1.6435  0.5927  0.4615  0.8218 -1.0726  1.0  0.0\n",
       "4621 -6.8391 -1.8712  4.7882  1.3953  0.4839  0.4332 -0.8220 -1.2342  0.0  0.0\n",
       "4204 -6.5031 -1.4975  0.0287  1.2943  0.6966  0.6092  2.3135 -1.6668  0.0  0.0\n",
       "5656 -6.5248 -1.4793  0.0055  1.2839  0.7938  0.6663  2.3150 -1.8196  0.0  0.0\n",
       "\n",
       "[6657 rows x 10 columns]"
      ]
     },
     "execution_count": 552,
     "metadata": {},
     "output_type": "execute_result"
    }
   ],
   "source": [
    "test2"
   ]
  },
  {
   "cell_type": "code",
   "execution_count": 553,
   "metadata": {},
   "outputs": [],
   "source": [
    "pred_test = preds[np.argsort(preds[:, 7])[::-1]]"
   ]
  },
  {
   "cell_type": "code",
   "execution_count": 554,
   "metadata": {},
   "outputs": [
    {
     "data": {
      "text/html": [
       "<div>\n",
       "<style scoped>\n",
       "    .dataframe tbody tr th:only-of-type {\n",
       "        vertical-align: middle;\n",
       "    }\n",
       "\n",
       "    .dataframe tbody tr th {\n",
       "        vertical-align: top;\n",
       "    }\n",
       "\n",
       "    .dataframe thead th {\n",
       "        text-align: right;\n",
       "    }\n",
       "</style>\n",
       "<table border=\"1\" class=\"dataframe\">\n",
       "  <thead>\n",
       "    <tr style=\"text-align: right;\">\n",
       "      <th></th>\n",
       "      <th>0</th>\n",
       "      <th>1</th>\n",
       "      <th>2</th>\n",
       "      <th>3</th>\n",
       "      <th>4</th>\n",
       "      <th>5</th>\n",
       "      <th>6</th>\n",
       "      <th>7</th>\n",
       "      <th>8</th>\n",
       "      <th>9</th>\n",
       "    </tr>\n",
       "  </thead>\n",
       "  <tbody>\n",
       "    <tr>\n",
       "      <th>0</th>\n",
       "      <td>0.7282</td>\n",
       "      <td>-0.6073</td>\n",
       "      <td>3.1632</td>\n",
       "      <td>0.9298</td>\n",
       "      <td>0.4822</td>\n",
       "      <td>0.7483</td>\n",
       "      <td>-2.3898</td>\n",
       "      <td>5.2153</td>\n",
       "      <td>1.0</td>\n",
       "      <td>0.0</td>\n",
       "    </tr>\n",
       "    <tr>\n",
       "      <th>1</th>\n",
       "      <td>0.4953</td>\n",
       "      <td>-0.7095</td>\n",
       "      <td>4.2380</td>\n",
       "      <td>1.2906</td>\n",
       "      <td>0.5380</td>\n",
       "      <td>0.7890</td>\n",
       "      <td>-2.3199</td>\n",
       "      <td>5.0391</td>\n",
       "      <td>1.0</td>\n",
       "      <td>0.0</td>\n",
       "    </tr>\n",
       "    <tr>\n",
       "      <th>2</th>\n",
       "      <td>0.3520</td>\n",
       "      <td>-0.5926</td>\n",
       "      <td>3.2305</td>\n",
       "      <td>1.0199</td>\n",
       "      <td>0.4457</td>\n",
       "      <td>0.7102</td>\n",
       "      <td>-2.3849</td>\n",
       "      <td>4.9451</td>\n",
       "      <td>0.0</td>\n",
       "      <td>0.0</td>\n",
       "    </tr>\n",
       "    <tr>\n",
       "      <th>3</th>\n",
       "      <td>-1.1135</td>\n",
       "      <td>-0.5068</td>\n",
       "      <td>2.3140</td>\n",
       "      <td>0.9792</td>\n",
       "      <td>0.4222</td>\n",
       "      <td>0.7021</td>\n",
       "      <td>-2.3810</td>\n",
       "      <td>4.9272</td>\n",
       "      <td>1.0</td>\n",
       "      <td>0.0</td>\n",
       "    </tr>\n",
       "    <tr>\n",
       "      <th>4</th>\n",
       "      <td>0.3697</td>\n",
       "      <td>-0.4974</td>\n",
       "      <td>2.2214</td>\n",
       "      <td>0.8674</td>\n",
       "      <td>0.5014</td>\n",
       "      <td>0.7182</td>\n",
       "      <td>-2.3924</td>\n",
       "      <td>4.9232</td>\n",
       "      <td>1.0</td>\n",
       "      <td>0.0</td>\n",
       "    </tr>\n",
       "    <tr>\n",
       "      <th>...</th>\n",
       "      <td>...</td>\n",
       "      <td>...</td>\n",
       "      <td>...</td>\n",
       "      <td>...</td>\n",
       "      <td>...</td>\n",
       "      <td>...</td>\n",
       "      <td>...</td>\n",
       "      <td>...</td>\n",
       "      <td>...</td>\n",
       "      <td>...</td>\n",
       "    </tr>\n",
       "    <tr>\n",
       "      <th>6652</th>\n",
       "      <td>-6.2911</td>\n",
       "      <td>-0.7161</td>\n",
       "      <td>2.1677</td>\n",
       "      <td>1.6806</td>\n",
       "      <td>1.2181</td>\n",
       "      <td>0.9507</td>\n",
       "      <td>-0.8161</td>\n",
       "      <td>-0.9209</td>\n",
       "      <td>1.0</td>\n",
       "      <td>0.0</td>\n",
       "    </tr>\n",
       "    <tr>\n",
       "      <th>6653</th>\n",
       "      <td>-6.3950</td>\n",
       "      <td>-0.4685</td>\n",
       "      <td>4.0305</td>\n",
       "      <td>1.6435</td>\n",
       "      <td>0.5927</td>\n",
       "      <td>0.4615</td>\n",
       "      <td>0.8218</td>\n",
       "      <td>-1.0726</td>\n",
       "      <td>1.0</td>\n",
       "      <td>0.0</td>\n",
       "    </tr>\n",
       "    <tr>\n",
       "      <th>6654</th>\n",
       "      <td>-6.8391</td>\n",
       "      <td>-1.8712</td>\n",
       "      <td>4.7882</td>\n",
       "      <td>1.3953</td>\n",
       "      <td>0.4839</td>\n",
       "      <td>0.4332</td>\n",
       "      <td>-0.8220</td>\n",
       "      <td>-1.2342</td>\n",
       "      <td>0.0</td>\n",
       "      <td>0.0</td>\n",
       "    </tr>\n",
       "    <tr>\n",
       "      <th>6655</th>\n",
       "      <td>-6.5031</td>\n",
       "      <td>-1.4975</td>\n",
       "      <td>0.0287</td>\n",
       "      <td>1.2943</td>\n",
       "      <td>0.6966</td>\n",
       "      <td>0.6092</td>\n",
       "      <td>2.3135</td>\n",
       "      <td>-1.6668</td>\n",
       "      <td>0.0</td>\n",
       "      <td>0.0</td>\n",
       "    </tr>\n",
       "    <tr>\n",
       "      <th>6656</th>\n",
       "      <td>-6.5248</td>\n",
       "      <td>-1.4793</td>\n",
       "      <td>0.0055</td>\n",
       "      <td>1.2839</td>\n",
       "      <td>0.7938</td>\n",
       "      <td>0.6663</td>\n",
       "      <td>2.3150</td>\n",
       "      <td>-1.8196</td>\n",
       "      <td>0.0</td>\n",
       "      <td>0.0</td>\n",
       "    </tr>\n",
       "  </tbody>\n",
       "</table>\n",
       "<p>6657 rows × 10 columns</p>\n",
       "</div>"
      ],
      "text/plain": [
       "           0       1       2       3       4       5       6       7    8    9\n",
       "0     0.7282 -0.6073  3.1632  0.9298  0.4822  0.7483 -2.3898  5.2153  1.0  0.0\n",
       "1     0.4953 -0.7095  4.2380  1.2906  0.5380  0.7890 -2.3199  5.0391  1.0  0.0\n",
       "2     0.3520 -0.5926  3.2305  1.0199  0.4457  0.7102 -2.3849  4.9451  0.0  0.0\n",
       "3    -1.1135 -0.5068  2.3140  0.9792  0.4222  0.7021 -2.3810  4.9272  1.0  0.0\n",
       "4     0.3697 -0.4974  2.2214  0.8674  0.5014  0.7182 -2.3924  4.9232  1.0  0.0\n",
       "...      ...     ...     ...     ...     ...     ...     ...     ...  ...  ...\n",
       "6652 -6.2911 -0.7161  2.1677  1.6806  1.2181  0.9507 -0.8161 -0.9209  1.0  0.0\n",
       "6653 -6.3950 -0.4685  4.0305  1.6435  0.5927  0.4615  0.8218 -1.0726  1.0  0.0\n",
       "6654 -6.8391 -1.8712  4.7882  1.3953  0.4839  0.4332 -0.8220 -1.2342  0.0  0.0\n",
       "6655 -6.5031 -1.4975  0.0287  1.2943  0.6966  0.6092  2.3135 -1.6668  0.0  0.0\n",
       "6656 -6.5248 -1.4793  0.0055  1.2839  0.7938  0.6663  2.3150 -1.8196  0.0  0.0\n",
       "\n",
       "[6657 rows x 10 columns]"
      ]
     },
     "execution_count": 554,
     "metadata": {},
     "output_type": "execute_result"
    }
   ],
   "source": [
    "test3 = pd.DataFrame(pred_test)\n",
    "test3"
   ]
  },
  {
   "cell_type": "code",
   "execution_count": 511,
   "metadata": {},
   "outputs": [
    {
     "name": "stdout",
     "output_type": "stream",
     "text": [
      "(1, 7)\n",
      "(1,)\n",
      "(1,)\n",
      "(1,)\n"
     ]
    }
   ],
   "source": [
    "# preds=np.hstack((pred_boxes3d_np, scores, true_positive_mask, gt_ind.cpu().numpy()))\n",
    "print(pred_boxes3d_np.shape)\n",
    "print(scores.shape)\n",
    "print(true_positive_mask.shape)\n",
    "print(gt_ind.cpu().numpy().shape)"
   ]
  },
  {
   "cell_type": "code",
   "execution_count": 515,
   "metadata": {},
   "outputs": [
    {
     "data": {
      "text/plain": [
       "array([[-0.54250002, -0.65200001,  4.34730005,  1.2275    ,  0.3787    ,\n",
       "         0.5591    , -2.3196    ,  1.9682    ]])"
      ]
     },
     "execution_count": 515,
     "metadata": {},
     "output_type": "execute_result"
    }
   ],
   "source": [
    "np.append(pred_boxes3d_np, scores.reshape(-1,1), axis=1)"
   ]
  },
  {
   "cell_type": "code",
   "execution_count": 509,
   "metadata": {},
   "outputs": [
    {
     "name": "stdout",
     "output_type": "stream",
     "text": [
      "(2, 7)\n"
     ]
    },
    {
     "data": {
      "text/plain": [
       "(14,)"
      ]
     },
     "execution_count": 509,
     "metadata": {},
     "output_type": "execute_result"
    }
   ],
   "source": [
    "x = np.vstack((pred_boxes3d_np, pred_boxes3d_np))\n",
    "print(x.shape)\n",
    "x.reshape(-1).shape"
   ]
  },
  {
   "cell_type": "code",
   "execution_count": 514,
   "metadata": {},
   "outputs": [
    {
     "name": "stdout",
     "output_type": "stream",
     "text": [
      "(2, 3)\n",
      "(2, 1)\n",
      "[[ 10  20  30 100]\n",
      " [ 40  50  60 200]]\n"
     ]
    }
   ],
   "source": [
    "x = np.array([[10,20,30], [40,50,60]])\n",
    "print(x.shape)\n",
    "y = np.array([[100], [200]])\n",
    "print(y.shape)\n",
    "print(np.append(x, y, axis=1))"
   ]
  },
  {
   "cell_type": "markdown",
   "metadata": {},
   "source": [
    "# Test Data Augmentation"
   ]
  },
  {
   "cell_type": "code",
   "execution_count": 325,
   "metadata": {},
   "outputs": [],
   "source": [
    "GT_AUG_HARD_RATIO=0.6\n",
    "GT_AUG_RAND_NUM=True\n",
    "GT_EXTRA_NUM=15"
   ]
  },
  {
   "cell_type": "code",
   "execution_count": 326,
   "metadata": {},
   "outputs": [],
   "source": [
    "def apply_gt_aug_to_one_scene(gt_database, sample_id, pts_rect, pts_intensity, all_gt_boxes3d):\n",
    "    \"\"\"\n",
    "    :param pts_rect: (N, 3)\n",
    "    :param all_gt_boxex3d: (M2, 7)\n",
    "    :return:\n",
    "    \"\"\"\n",
    "    # extra_gt_num = np.random.randint(10, 15)\n",
    "    # try_times = 50\n",
    "    if GT_AUG_RAND_NUM:\n",
    "        extra_gt_num = np.random.randint(10, GT_EXTRA_NUM)\n",
    "    else:\n",
    "        extra_gt_num = GT_EXTRA_NUM\n",
    "    try_times = 100\n",
    "    cnt = 0\n",
    "    cur_gt_boxes3d = all_gt_boxes3d.copy()\n",
    "    cur_gt_boxes3d[:, 4] += 0.5  # TODO: consider different objects\n",
    "    cur_gt_boxes3d[:, 5] += 0.5  # enlarge new added box to avoid too nearby boxes\n",
    "    cur_gt_corners = kitti_utils.boxes3d_to_corners3d(cur_gt_boxes3d)\n",
    "\n",
    "    extra_gt_obj_list = []\n",
    "    extra_gt_boxes3d_list = []\n",
    "    new_pts_list, new_pts_intensity_list = [], []\n",
    "    src_pts_flag = np.ones(pts_rect.shape[0], dtype=np.int32)\n",
    "\n",
    "    while try_times > 0:\n",
    "        if cnt > extra_gt_num:\n",
    "            break\n",
    "        try_times -= 1\n",
    "        if GT_AUG_HARD_RATIO > 0:\n",
    "            p = np.random.rand()\n",
    "            if p > GT_AUG_HARD_RATIO:\n",
    "                # use easy sample\n",
    "                rand_idx = np.random.randint(0, len(gt_database[0]))\n",
    "                new_gt_dict = gt_database[0][rand_idx]\n",
    "            else:\n",
    "                # use hard sample\n",
    "                rand_idx = np.random.randint(0, len(gt_database[1]))\n",
    "                new_gt_dict = gt_database[1][rand_idx]\n",
    "        else:\n",
    "            rand_idx = np.random.randint(0, gt_database.__len__())\n",
    "            new_gt_dict = gt_database[rand_idx]\n",
    "\n",
    "        new_gt_box3d = new_gt_dict['gt_box3d'].copy()\n",
    "        new_gt_points = new_gt_dict['points'].copy()\n",
    "        new_gt_intensity = new_gt_dict['intensity'].copy()\n",
    "        new_gt_obj = new_gt_dict['obj']\n",
    "        new_sample_id = new_gt_dict['sample_id']\n",
    "        center = new_gt_box3d[0:3]\n",
    "\n",
    "        # if cfg.PC_REDUCE_BY_RANGE and (self.check_pc_range(center) is False):\n",
    "        #     continue\n",
    "\n",
    "        if new_gt_points.__len__() < 5:  # too few points\n",
    "            print('Count: {}, Try-Times: {} --> Discarding sample with only {} points'.format(cnt, try_times, new_gt_points.__len__()))\n",
    "            continue\n",
    "\n",
    "        # TODO: put it on the road plane? \n",
    "        # cur_height = (-d - a * center[0] - c * center[2]) / b\n",
    "        # move_height = new_gt_box3d[1] - cur_height\n",
    "        # new_gt_box3d[1] -= move_height\n",
    "        # new_gt_points[:, 1] -= move_height\n",
    "        # new_gt_obj.pos[1] -= move_height\n",
    "\n",
    "        new_enlarged_box3d = new_gt_box3d.copy()\n",
    "        new_enlarged_box3d[4] += 0.5\n",
    "        new_enlarged_box3d[5] += 0.5  # enlarge new added box to avoid too nearby boxes\n",
    "\n",
    "        cnt += 1\n",
    "        new_corners = kitti_utils.boxes3d_to_corners3d(new_enlarged_box3d.reshape(1, 7))\n",
    "        iou3d = kitti_utils.get_iou3d(new_corners, cur_gt_corners)\n",
    "        if not iou3d.max() < 1e-8: \n",
    "            print('Count: {}, Try-Times: {} --> Collision with ground truth'.format(cnt, try_times))\n",
    "            # collision with ground truth \n",
    "            continue\n",
    "\n",
    "        enlarged_box3d = new_gt_box3d.copy()\n",
    "        enlarged_box3d[3] += 2  # remove the points above and below the object\n",
    "\n",
    "        boxes_pts_mask_list = roipool3d_utils.pts_in_boxes3d_cpu(\n",
    "            torch.from_numpy(pts_rect), torch.from_numpy(enlarged_box3d.reshape(1, 7)))\n",
    "        pt_mask_flag = (boxes_pts_mask_list[0].numpy() == 1)\n",
    "        src_pts_flag[pt_mask_flag] = 0  # remove the original points which are inside the new box\n",
    "\n",
    "        new_pts_list.append(new_gt_points)\n",
    "        new_pts_intensity_list.append(new_gt_intensity)\n",
    "        cur_gt_boxes3d = np.concatenate((cur_gt_boxes3d, new_enlarged_box3d.reshape(1, 7)), axis=0)\n",
    "        cur_gt_corners = np.concatenate((cur_gt_corners, new_corners), axis=0)\n",
    "        extra_gt_boxes3d_list.append(new_gt_box3d.reshape(1, 7))\n",
    "        extra_gt_obj_list.append((new_sample_id, new_gt_obj))\n",
    "\n",
    "    if new_pts_list.__len__() == 0:\n",
    "        return False, pts_rect, pts_intensity, None, None\n",
    "\n",
    "    extra_gt_boxes3d = np.concatenate(extra_gt_boxes3d_list, axis=0)\n",
    "    # remove original points and add new points\n",
    "    pts_rect = pts_rect[src_pts_flag == 1]\n",
    "    pts_intensity = pts_intensity[src_pts_flag == 1]\n",
    "    new_pts_rect = np.concatenate(new_pts_list, axis=0)\n",
    "    new_pts_intensity = np.concatenate(new_pts_intensity_list, axis=0)\n",
    "    pts_rect = np.concatenate((pts_rect, new_pts_rect), axis=0)\n",
    "    pts_intensity = np.concatenate((pts_intensity, new_pts_intensity), axis=0)\n",
    "\n",
    "    return True, pts_rect, pts_intensity, extra_gt_boxes3d, extra_gt_obj_list"
   ]
  },
  {
   "cell_type": "code",
   "execution_count": 327,
   "metadata": {},
   "outputs": [],
   "source": [
    "gt_database_dir = os.path.join('../','gt_database/train_gt_database_3level_Pedestrian.pkl')"
   ]
  },
  {
   "cell_type": "code",
   "execution_count": 328,
   "metadata": {},
   "outputs": [],
   "source": [
    "import pickle\n",
    "gt_database_raw = pickle.load(open(gt_database_dir, 'rb'))\n",
    "easy_list, hard_list = [], []\n",
    "for k in range(gt_database_raw.__len__()):\n",
    "    obj = gt_database_raw[k]\n",
    "    if obj['points'].shape[0] > 100:\n",
    "        easy_list.append(obj)\n",
    "    else:\n",
    "        hard_list.append(obj)\n",
    "gt_database = [easy_list, hard_list]"
   ]
  },
  {
   "cell_type": "code",
   "execution_count": 329,
   "metadata": {},
   "outputs": [
    {
     "name": "stdout",
     "output_type": "stream",
     "text": [
      "5939\n"
     ]
    }
   ],
   "source": [
    "print(len(gt_database_raw))"
   ]
  },
  {
   "cell_type": "code",
   "execution_count": 330,
   "metadata": {},
   "outputs": [
    {
     "name": "stdout",
     "output_type": "stream",
     "text": [
      "Count: 8, Try-Times: 92 --> Collision with ground truth\n",
      "Count: 10, Try-Times: 90 --> Collision with ground truth\n",
      "Count: 12, Try-Times: 88 --> Collision with ground truth\n",
      "Count: 13, Try-Times: 87 --> Collision with ground truth\n",
      "Count: 15, Try-Times: 85 --> Collision with ground truth\n"
     ]
    }
   ],
   "source": [
    "sample_id = 100\n",
    "DATA_PATH = os.path.join('../../', 'data/custom_data/')\n",
    "all_train_files = data_utils.get_data_files(os.path.join(DATA_PATH, 'train.txt'))\n",
    "lidar_file = os.path.join(DATA_PATH, all_train_files[sample_id])\n",
    "pts_lidar, _, bboxes = data_utils.load_h5(lidar_file, bbox=True)\n",
    "pts_rect = data_utils.pts_lidar_to_camera(pts_lidar[:, :3])\n",
    "pts_intensity = pts_lidar[:, 3]\n",
    "bbox_list = np.reshape(bboxes, (1,-1)) \n",
    "gt_boxes3d_list = [Object3d(box, gt=True) for box in bbox_list]\n",
    "all_gt_boxes3d = np.array([(obj.pos[0], obj.pos[1], obj.pos[2], obj.h, obj.w, obj.l, obj.ry) for obj in gt_boxes3d_list])\n",
    "\n",
    "gt_aug_flag, pts_rect, pts_intensity, extra_gt_boxes3d, extra_gt_obj_list = apply_gt_aug_to_one_scene(gt_database, sample_id, pts_rect, pts_intensity, all_gt_boxes3d)\n"
   ]
  },
  {
   "cell_type": "code",
   "execution_count": 331,
   "metadata": {},
   "outputs": [
    {
     "name": "stdout",
     "output_type": "stream",
     "text": [
      "('All point num: ', 9772)\n",
      "Got 0 detections\n",
      "Got 11 ground truth objects\n"
     ]
    }
   ],
   "source": [
    "gt_boxes3d_list.extend(extra_gt_obj_list)\n",
    "bboxes3d = []\n",
    "fig = show_lidar_with_boxes(pts_rect, bboxes3d, gt_objects=gt_boxes3d_list)"
   ]
  },
  {
   "cell_type": "code",
   "execution_count": 332,
   "metadata": {},
   "outputs": [
    {
     "data": {
      "application/vnd.jupyter.widget-view+json": {
       "model_id": "2b44a19c91c34afca6fa21fe1dce26b1",
       "version_major": 2,
       "version_minor": 0
      },
      "text/plain": [
       "Image(value=b'\\x89PNG\\r\\n\\x1a\\n\\x00\\x00\\x00\\rIHDR\\x00\\x00\\x06@\\x00\\x00\\x03\\xe8\\x08\\x02\\x00\\x00\\x00\\t\\x19\\xa5\\x…"
      ]
     },
     "metadata": {},
     "output_type": "display_data"
    }
   ],
   "source": [
    "fig"
   ]
  },
  {
   "cell_type": "code",
   "execution_count": 261,
   "metadata": {},
   "outputs": [],
   "source": [
    "name = 'gt_aug_new_trainID_{}'.format(sample_id)\n",
    "mlab.savefig(filename=os.path.join('../../','plots/{}.png'.format(name)))"
   ]
  },
  {
   "cell_type": "markdown",
   "metadata": {},
   "source": [
    "# Show ground truth only"
   ]
  },
  {
   "cell_type": "code",
   "execution_count": 192,
   "metadata": {},
   "outputs": [
    {
     "name": "stdout",
     "output_type": "stream",
     "text": [
      "('All point num: ', 8660)\n",
      "Got 0 detections\n",
      "Got 1 ground truth objects\n"
     ]
    }
   ],
   "source": [
    "frame = 'walk_person166_3/frame430.h5'\n",
    "DATA_PATH = os.path.join('../../', 'data/custom_data/')\n",
    "lidar_file = os.path.join(DATA_PATH, frame)\n",
    "pts_lidar, _, bboxes = data_utils.load_h5(lidar_file, bbox=True)\n",
    "pts_rect = data_utils.pts_lidar_to_camera(pts_lidar[:, :3])\n",
    "pts_intensity = pts_lidar[:, 3]\n",
    "bbox_list = np.reshape(bboxes, (1,-1)) \n",
    "gt_boxes3d_list = [Object3d(box, gt=True) for box in bbox_list]\n",
    "# gt_boxes = np.array([(obj.pos[0], obj.pos[1], obj.pos[2], obj.h, obj.w, obj.l, obj.ry) for obj in gt_boxes3d_list])\n",
    "gt_fig = show_lidar_with_boxes(pts_rect, [], gt_objects=gt_boxes3d_list)"
   ]
  },
  {
   "cell_type": "code",
   "execution_count": 193,
   "metadata": {},
   "outputs": [
    {
     "data": {
      "application/vnd.jupyter.widget-view+json": {
       "model_id": "7099d040ebe84648ae72bed876f66e4b",
       "version_major": 2,
       "version_minor": 0
      },
      "text/plain": [
       "Image(value=b'\\x89PNG\\r\\n\\x1a\\n\\x00\\x00\\x00\\rIHDR\\x00\\x00\\x06@\\x00\\x00\\x03\\xe8\\x08\\x02\\x00\\x00\\x00\\t\\x19\\xa5\\x…"
      ]
     },
     "metadata": {},
     "output_type": "display_data"
    }
   ],
   "source": [
    "gt_fig"
   ]
  },
  {
   "cell_type": "code",
   "execution_count": 165,
   "metadata": {},
   "outputs": [
    {
     "data": {
      "application/vnd.jupyter.widget-view+json": {
       "model_id": "4aab070462eb468f97c111b0348c6d53",
       "version_major": 2,
       "version_minor": 0
      },
      "text/plain": [
       "Image(value=b'\\x89PNG\\r\\n\\x1a\\n\\x00\\x00\\x00\\rIHDR\\x00\\x00\\x06@\\x00\\x00\\x03\\xe8\\x08\\x02\\x00\\x00\\x00\\t\\x19\\xa5\\x…"
      ]
     },
     "metadata": {},
     "output_type": "display_data"
    }
   ],
   "source": [
    "gt_fig2"
   ]
  },
  {
   "cell_type": "code",
   "execution_count": null,
   "metadata": {},
   "outputs": [],
   "source": []
  }
 ],
 "metadata": {
  "kernelspec": {
   "display_name": "Python 3",
   "language": "python",
   "name": "python3"
  },
  "language_info": {
   "codemirror_mode": {
    "name": "ipython",
    "version": 3
   },
   "file_extension": ".py",
   "mimetype": "text/x-python",
   "name": "python",
   "nbconvert_exporter": "python",
   "pygments_lexer": "ipython3",
   "version": "3.7.7"
  },
  "toc": {
   "base_numbering": 1,
   "nav_menu": {},
   "number_sections": true,
   "sideBar": true,
   "skip_h1_title": false,
   "title_cell": "Table of Contents",
   "title_sidebar": "Contents",
   "toc_cell": true,
   "toc_position": {
    "height": "calc(100% - 180px)",
    "left": "10px",
    "top": "150px",
    "width": "270.567px"
   },
   "toc_section_display": true,
   "toc_window_display": true
  }
 },
 "nbformat": 4,
 "nbformat_minor": 4
}
