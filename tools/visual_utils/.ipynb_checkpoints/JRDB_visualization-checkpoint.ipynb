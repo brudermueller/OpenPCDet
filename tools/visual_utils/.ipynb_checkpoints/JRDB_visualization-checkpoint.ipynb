{
 "cells": [
  {
   "cell_type": "markdown",
   "metadata": {
    "hide_input": false,
    "toc": true
   },
   "source": [
    "<h1>Table of Contents<span class=\"tocSkip\"></span></h1>\n",
    "<div class=\"toc\"><ul class=\"toc-item\"><li><span><a href=\"#Plot-functions\" data-toc-modified-id=\"Plot-functions-1\"><span class=\"toc-item-num\">1&nbsp;&nbsp;</span>Plot functions</a></span></li><li><span><a href=\"#Visualize-Ground-Truth\" data-toc-modified-id=\"Visualize-Ground-Truth-2\"><span class=\"toc-item-num\">2&nbsp;&nbsp;</span>Visualize Ground Truth</a></span><ul class=\"toc-item\"><li><span><a href=\"#JRDB\" data-toc-modified-id=\"JRDB-2.1\"><span class=\"toc-item-num\">2.1&nbsp;&nbsp;</span>JRDB</a></span><ul class=\"toc-item\"><li><span><a href=\"#Overview\" data-toc-modified-id=\"Overview-2.1.1\"><span class=\"toc-item-num\">2.1.1&nbsp;&nbsp;</span>Overview</a></span></li></ul></li></ul></li></ul></div>"
   ]
  },
  {
   "cell_type": "markdown",
   "metadata": {},
   "source": [
    "Followed this [instruction manual](https://github.com/kuixu/kitti_object_vis/tree/master/jupyter) on how to setup jupyter notebook mayavi interface for remote usage."
   ]
  },
  {
   "cell_type": "code",
   "execution_count": 4,
   "metadata": {},
   "outputs": [],
   "source": [
    "%load_ext autoreload\n",
    "%autoreload 2"
   ]
  },
  {
   "cell_type": "code",
   "execution_count": 5,
   "metadata": {},
   "outputs": [],
   "source": [
    "from xvfbwrapper import Xvfb\n",
    "vdisplay = Xvfb(width=1920, height=1080)\n",
    "vdisplay.start()"
   ]
  },
  {
   "cell_type": "code",
   "execution_count": 6,
   "metadata": {},
   "outputs": [
    {
     "name": "stdout",
     "output_type": "stream",
     "text": [
      "Notebook initialized with ipy backend.\n"
     ]
    }
   ],
   "source": [
    "from mayavi import mlab\n",
    "mlab.init_notebook('ipy')"
   ]
  },
  {
   "cell_type": "code",
   "execution_count": 7,
   "metadata": {},
   "outputs": [],
   "source": [
    "import os\n",
    "import torch\n",
    "import numpy as np\n",
    "import matplotlib.pyplot as plt\n",
    "\n",
    "import visualize_utils as V\n",
    "from pcdet.utils.custom_data_utils import load_h5, load_h5_basic, get_data_files\n",
    "from pcdet.utils.object3d_custom import Object3d"
   ]
  },
  {
   "cell_type": "code",
   "execution_count": 8,
   "metadata": {},
   "outputs": [
    {
     "name": "stdout",
     "output_type": "stream",
     "text": [
      "/home/crowdbot/master_lara/OpenPCDet/tools/visual_utils\n"
     ]
    }
   ],
   "source": [
    "print(os.getcwd())"
   ]
  },
  {
   "cell_type": "markdown",
   "metadata": {},
   "source": [
    "# Visualize Ground Truth "
   ]
  },
  {
   "cell_type": "markdown",
   "metadata": {},
   "source": [
    "## JRDB "
   ]
  },
  {
   "cell_type": "code",
   "execution_count": 9,
   "metadata": {},
   "outputs": [],
   "source": [
    "from pcdet.utils.jrdb_utils import transform_pts_upper_velodyne_to_base, transform_pts_laser_to_base,\\\n",
    "                                   box_from_jrdb, transform_pts_lower_velodyne_to_base"
   ]
  },
  {
   "cell_type": "markdown",
   "metadata": {},
   "source": [
    "### Overview"
   ]
  },
  {
   "cell_type": "code",
   "execution_count": 10,
   "metadata": {},
   "outputs": [],
   "source": [
    "# f = '/hdd/master_lara_data/JRDB/cvgl/group/jrdb/data/train_dataset/pointclouds/hdf5/upper_velodyne/bytes-cafe-2019-02-07_0/000012.h5'                                                                                                                                                                                                                                              \n",
    "f = '/hdd/master_lara_data/JRDB/cvgl/group/jrdb/data/train_dataset/pointclouds/hdf5/upper_velodyne/jordan-hall-2019-04-22_0/000100.h5'                                                                                                                                                                                                                                              \n",
    "f1 = f.replace('upper', 'lower') \n",
    "                                               \n",
    "pts_upper = load_h5_basic(f)\n",
    "pts_coor_upper = transform_pts_upper_velodyne_to_base(pts_upper[:, 0:3].T).T\n",
    "pts_upper_trans = np.hstack((pts_coor_upper, pts_upper[:,3, np.newaxis]))\n",
    "\n",
    "\n",
    "pts_lower = load_h5_basic(f1)\n",
    "pts_coor_lower = transform_pts_lower_velodyne_to_base(pts_lower[:, 0:3].T).T\n",
    "pts_lower_trans = np.hstack((pts_coor_lower, pts_lower[:,3, np.newaxis]))\n",
    "\n",
    "pts_merged = np.concatenate((pts_upper_trans, pts_lower_trans), axis=0)  \n",
    "fig = None\n",
    "fig = V.visualize_pts(pts_merged, show_intensity=True, size=(1000,600))"
   ]
  },
  {
   "cell_type": "code",
   "execution_count": 11,
   "metadata": {},
   "outputs": [],
   "source": [
    "label_dir = '/hdd/master_lara_data/JRDB/cvgl/group/jrdb/data/train_dataset/labels/labels_3d/'"
   ]
  },
  {
   "cell_type": "code",
   "execution_count": 12,
   "metadata": {},
   "outputs": [],
   "source": [
    "def load_json_file(label_file):\n",
    "    \"\"\" Loads json file to a python dictionary.\n",
    "\n",
    "    Args:\n",
    "        label_file: full file path to json file\n",
    "\n",
    "    Returns:\n",
    "        dictionary contained in json file \n",
    "    \"\"\"\n",
    "    with open(label_file) as f:\n",
    "        data = json.load(f)\n",
    "    return data "
   ]
  },
  {
   "cell_type": "code",
   "execution_count": 13,
   "metadata": {},
   "outputs": [],
   "source": [
    "import collections\n",
    "import json\n",
    "def get_all_labels(label_dir): \n",
    "    label_dict = collections.defaultdict(dict)   \n",
    "    for json_file in os.listdir(label_dir): \n",
    "        sequence = os.path.basename(os.path.splitext(json_file)[0])\n",
    "        file_dict = load_json_file(os.path.join(label_dir, json_file))\n",
    "        for frame, annotations_list in file_dict['labels'].items(): \n",
    "            frame_num = frame.split('.')[0]\n",
    "            box_list = []\n",
    "            for anno in annotations_list:                   \n",
    "                box_dict = anno['box']\n",
    "                xyz = np.array([box_dict[\"cx\"], box_dict[\"cy\"], box_dict[\"cz\"]+0.33529], dtype=np.float32).reshape(1, 3)\n",
    "                xyz_trans = transform_pts_upper_velodyne_to_base(xyz.T).T\n",
    "                lwh = np.array([box_dict[\"l\"], box_dict[\"w\"], box_dict[\"h\"]], dtype=np.float32).reshape(1, 3)\n",
    "                box = np.concatenate([xyz_trans, lwh, np.reshape(box_dict['rot_z'], (-1,1))], axis=1)\n",
    "                box_list.append(box)\n",
    "            label_dict[sequence][frame_num] = box_list \n",
    "    return label_dict "
   ]
  },
  {
   "cell_type": "code",
   "execution_count": 14,
   "metadata": {},
   "outputs": [],
   "source": [
    "def get_label(frame, label_dict, box_object=False):\n",
    "    \"\"\" \n",
    "    Return bbox annotations per frame, defined as (N,7), i.e. (N x [x, y, z, h, w, l, ry])\n",
    "\n",
    "    Args:\n",
    "        frame (string): frame id \n",
    "    \"\"\"\n",
    "    file_parts = frame.split('/')\n",
    "    sequence = file_parts[len(file_parts)-2]   \n",
    "    frame_num = file_parts[-1].split('.')[0]\n",
    "    print('Sequence: {}, Frame: {}'.format(sequence, frame_num))\n",
    "    try: \n",
    "        bbox_list = np.reshape(label_dict[sequence][frame_num],(-1,7)) \n",
    "    except KeyError: \n",
    "        print(\"Label dict does not contain key combination (seq: {}, frame_num: {})\".format(sequence, frame_num))\n",
    "        return None\n",
    "    if box_object: \n",
    "        bbox_obj_list = [Object3d(box, gt=True) for box in bbox_list]\n",
    "        return bbox_obj_list\n",
    "    else: \n",
    "        return bbox_list "
   ]
  },
  {
   "cell_type": "code",
   "execution_count": 17,
   "metadata": {
    "scrolled": true
   },
   "outputs": [
    {
     "name": "stdout",
     "output_type": "stream",
     "text": [
      "27\n"
     ]
    }
   ],
   "source": [
    "label_dict = get_all_labels(label_dir)\n",
    "print(label_dict.__len__())"
   ]
  },
  {
   "cell_type": "code",
   "execution_count": 18,
   "metadata": {},
   "outputs": [
    {
     "name": "stdout",
     "output_type": "stream",
     "text": [
      "Sequence: jordan-hall-2019-04-22_0, Frame: 000100\n",
      "Num ground truth objects: 10\n"
     ]
    }
   ],
   "source": [
    "gt_boxes = get_label(f, label_dict)\n",
    "gt_corners3d = V.boxes_to_corners_3d(gt_boxes)\n",
    "print('Num ground truth objects: {}'.format(gt_boxes.shape[0]))\n",
    "fig = None\n",
    "fig = V.visualize_pts(pts_merged, show_intensity=True, size=(1000,600))\n",
    "fig = V.draw_corners3d(gt_corners3d, fig=fig, color=(0, 1, 0), max_num=100)"
   ]
  },
  {
   "cell_type": "code",
   "execution_count": 19,
   "metadata": {},
   "outputs": [
    {
     "data": {
      "application/vnd.jupyter.widget-view+json": {
       "model_id": "ea9bbe97c44942caa9fa72771bc1e26a",
       "version_major": 2,
       "version_minor": 0
      },
      "text/plain": [
       "Image(value=b'\\x89PNG\\r\\n\\x1a\\n\\x00\\x00\\x00\\rIHDR\\x00\\x00\\x03\\xe8\\x00\\x00\\x02X\\x08\\x02\\x00\\x00\\x00~|[r\\x00\\x00…"
      ]
     },
     "metadata": {},
     "output_type": "display_data"
    }
   ],
   "source": [
    "fig"
   ]
  },
  {
   "cell_type": "code",
   "execution_count": 20,
   "metadata": {},
   "outputs": [],
   "source": [
    "name = 'jrdb_test_plot1'\n",
    "mlab.savefig(filename=os.path.join('../../','plots/{}.png'.format(name)))"
   ]
  },
  {
   "cell_type": "code",
   "execution_count": null,
   "metadata": {},
   "outputs": [],
   "source": []
  }
 ],
 "metadata": {
  "kernelspec": {
   "display_name": "Python 3",
   "language": "python",
   "name": "python3"
  },
  "language_info": {
   "codemirror_mode": {
    "name": "ipython",
    "version": 3
   },
   "file_extension": ".py",
   "mimetype": "text/x-python",
   "name": "python",
   "nbconvert_exporter": "python",
   "pygments_lexer": "ipython3",
   "version": "3.7.7"
  },
  "toc": {
   "base_numbering": 1,
   "nav_menu": {},
   "number_sections": true,
   "sideBar": true,
   "skip_h1_title": false,
   "title_cell": "Table of Contents",
   "title_sidebar": "Contents",
   "toc_cell": true,
   "toc_position": {
    "height": "calc(100% - 180px)",
    "left": "10px",
    "top": "150px",
    "width": "270.567px"
   },
   "toc_section_display": true,
   "toc_window_display": true
  }
 },
 "nbformat": 4,
 "nbformat_minor": 4
}
